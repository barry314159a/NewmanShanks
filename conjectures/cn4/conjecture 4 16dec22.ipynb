{
 "cells": [
  {
   "cell_type": "code",
   "execution_count": 2,
   "id": "0a99ec4d",
   "metadata": {},
   "outputs": [
    {
     "name": "stdout",
     "output_type": "stream",
     "text": [
      "okay\n"
     ]
    }
   ],
   "source": [
    "D.<x> = PolynomialRing(QQ)\n",
    "R.<x> = PolynomialRing(QQ)\n",
    "S = PowerSeriesRing(QQ,'x', default_prec=300)\n",
    "L=LaurentSeriesRing(QQ,'x', default_prec=300)\n",
    "#S.<x,y>=PowerSeriesRing(QQ,default_prec=300)\n",
    "# Using \"R = PolynomialRing(QQ,'x')\" produces an error.\n",
    "# Yet using S as defined here is fine (see definition of Fraleigh4 below)\n",
    "# But S = PowerSeriesRing(QQ,'x','y') also produces an error.\n",
    "\n",
    "def uniteList(lst):\n",
    "    ln=len(lst)\n",
    "    if ln<2:return lst\n",
    "    answer=[]\n",
    "    for j in [0..ln-1]:\n",
    "        lj=lst[j]\n",
    "        if (lj in answer)==False:\n",
    "            answer=answer+[lj]\n",
    "    return answer\n",
    "\n",
    "def delete_element(elt,ls):\n",
    "    new=[]\n",
    "    for j in ls:\n",
    "        if j!=elt:new=new+[j]\n",
    "    return new\n",
    "\n",
    "def sortAndSmash(lst): #sorts and deletes repeats\n",
    "    cropped=lst\n",
    "    new=[]\n",
    "    while len(cropped)>0:\n",
    "        m=min(cropped)\n",
    "        new=new+[m]\n",
    "        cropped=delete_element(m,cropped)\n",
    "    return(new)\n",
    "\n",
    "def difference_table(lst):\n",
    "    diffs=[]\n",
    "    for k in [0..len(lst)-2]:\n",
    "        diff=lst[k+1]-lst[k]\n",
    "        diffs=diffs+[diff]\n",
    "    return diffs\n",
    "\n",
    "def evaluate(expression,incomingvalue):\n",
    "    expr=str(expression)\n",
    "    output=sage_eval(expr,locals={'x':incomingvalue})\n",
    "    return output\n",
    "\n",
    "P=Primes()\n",
    "\n",
    "def prime(n): return P.unrank(n-1)\n",
    "\n",
    "def unite(A,B):\n",
    "    return set(A).union(B)\n",
    "\n",
    "def factor_integer(n): #this is like \"factor(integer)\", but\n",
    "    #the bases and exponents can be easily extracted.\n",
    "    F=factor(n)\n",
    "    return list(F)\n",
    "\n",
    "def orderInteger(p,n):\n",
    "    if n!=0:\n",
    "        lst=n.digits(p)\n",
    "        count=0\n",
    "        k=0\n",
    "        while lst[k]==0:\n",
    "            count=count+1\n",
    "            k=k+1\n",
    "        return count\n",
    "    if n==0:return(Infinity)\n",
    "\n",
    "def order(p,fr):\n",
    "    nn=numerator(QQ(fr))\n",
    "    dn=denominator(QQ(fr))\n",
    "    return orderInteger(p,nn)-orderInteger(p,dn)\n",
    "\n",
    "def digitsum(p,n):return add(n.digits(p))\n",
    "\n",
    "def digitsum(p,n):\n",
    "    return sum(n.digits(p))\n",
    "\n",
    "def rmnjntau(n):\n",
    "    answer=0\n",
    "    for k in [1..n-1]:\n",
    "        answer=answer+(6*k-4*(n-k))*sigma(k,3)*sigma(n-k,5)\n",
    "    answer=(5*sigma(n,3)+7*sigma(n,5))*n/12-35*answer\n",
    "    return answer\n",
    "\n",
    "def pochhammer(x,n):\n",
    "    return product ([x+k for k in [0..n-1]])\n",
    "\n",
    "def cRaleigh2(alpha,beta,nu):\n",
    "    pchhmrA = pochhammer(alpha,nu)\n",
    "    pchhmrB = pochhammer(beta,nu)\n",
    "    fnu=factorial(nu)\n",
    "    answer = D(pchhmrA*pchhmrB/fnu^2)\n",
    "    return answer\n",
    "\n",
    "def term(alpha,beta,p):\n",
    "    return D(1/(alpha + p) + 1/(beta + p) - 2/(1 + p))\n",
    "\n",
    "def eRaleigh(alpha, beta, nu):\n",
    "    return D(sum([term(alpha, beta, p) for p in [0..nu - 1]]))\n",
    "\n",
    "def FstarRaleigh2(alpha,beta,u,terms):\n",
    "    fsr = sum([cRaleigh2(alpha, beta, nu)*eRaleigh(alpha,beta,nu)*u^nu for nu in [1..terms]])\n",
    "    return D(fsr)\n",
    "\n",
    "def Fraleigh2(alpha,beta,u,terms): \n",
    "    return D(sum([cRaleigh2(alpha,beta,nu)*u^nu for nu in [0..terms]]))\n",
    "\n",
    "def FstarRaleigh3(n,m,x):\n",
    "    alpha = (1/2-1/m)/2\n",
    "    beta = (1/2+1/m)/2\n",
    "    fsr2 = FstarRaleigh2(alpha,beta,x,n)\n",
    "    return D(fsr2)\n",
    "\n",
    "def Fraleigh4(n,m,x):\n",
    "    alpha = (1/2-1/m)/2\n",
    "    beta = (1/2+1/m)/2\n",
    "    fr2 = Fraleigh2(alpha,beta,x,n)\n",
    "    return D(fr2)\n",
    "\n",
    "def exNo3c(n,m):\n",
    "    a1 = S(x)*exp(S(FstarRaleigh3(n,m,x)/Fraleigh4(n,m,x))).O(2*n)\n",
    "    # \n",
    "    # S(x) instead of x in df of a1 to avoid an error message\n",
    "    # after use of the stripQuotationMarks command below.\n",
    "    a2 = S(a1).O(n+1)\n",
    "    return a2 # applying S to argument of exp is key.\n",
    "\n",
    "def J(n,m):\n",
    "    exn = exNo3c(n+2,m)\n",
    "    jnm = 1/exn.reverse()\n",
    "    return jnm.O(n+1) # Jtest is faster than J, and they agree.\n",
    "def normalJ(n,m):\n",
    "    f = J(n,m)\n",
    "    return f.truncate(n+1)\n",
    "\n",
    "def Jcoefficient(n,m):\n",
    "    f = J(n+2,m)\n",
    "    f1 = f.truncate(n+1)\n",
    "    f1=f1.list()\n",
    "    f1=Set(f1)\n",
    "    g1 = f.truncate(n)\n",
    "    g1 = g1.list()\n",
    "    g1 = set(g1)\n",
    "    h = f1.difference(g1)\n",
    "    h = h.list()\n",
    "    return h[0]\n",
    "\n",
    "def xjNew(n,m):\n",
    "    def xjNewStep(n,m):\n",
    "        f=J(n,m)\n",
    "        fl=f.list()\n",
    "        rt=0\n",
    "        for i in [0..len(fl)-1]:\n",
    "            rt=rt+fl[i]*x**i*(m**3*2**6)**i\n",
    "        return rt\n",
    "    return xjNewStep(n-1,m)\n",
    "\n",
    "def j(n,m):return L(xjNew(n,m)/x)\n",
    "\n",
    "def xjLeoNew(n,m,multiplier):\n",
    "    def xjNewStep(n,m):\n",
    "        f=J(n,m)\n",
    "        fl=f.list()\n",
    "        rt=0\n",
    "        for i in [0..len(fl)-1]:\n",
    "            rt=rt+fl[i]*x**i*(multiplier)**i\n",
    "        return rt\n",
    "    return xjNewStep(n-1,m)\n",
    "\n",
    "def jLeo(n,m,multiplier):return L(xjLeoNew(n,m,multiplier)/x)\n",
    "\n",
    "def JpowerConstantTerm(m,power):\n",
    "    trun=J(power,m)\n",
    "    trun=expand(trun^power)\n",
    "    polyversion=expand(trun*x^power)\n",
    "    constant=polynomialCoefficient(power,polyversion)\n",
    "    return constant\n",
    "\n",
    "def jpowerConstantTerm(m,power):\n",
    "    trun=j(power,m)\n",
    "    trun=expand(trun^power)\n",
    "    polyversion=expand(trun*x^power)\n",
    "    constant=polynomialCoefficient(power,polyversion)\n",
    "    return constant\n",
    "\n",
    "def polynomialCoefficient(n,poly):\n",
    "    return poly.list()[n]\n",
    "\n",
    "def leadingCoefficient(polynomial):\n",
    "    dg=polynomial.degree()\n",
    "    \n",
    "    return polynomialCoefficient(dg,polynomial)\n",
    "\n",
    "def factorpairToFactor(factorpair):\n",
    "    (monomial,exponent)=factorpair\n",
    "    return monomial^exponent\n",
    "\n",
    "def numericalfactor(polynomial):\n",
    "    fp=polynomial.factor()\n",
    "    lst=[factorpairToFactor(factorpair) for factorpair in fp]\n",
    "    return polynomial/product(lst)\n",
    "\n",
    "def firstfactor(polynomial):\n",
    "    fp=polynomial.factor()\n",
    "    fp=FiniteEnumeratedSet(fp)\n",
    "    return factorpairToFactor(fp.first())\n",
    "\n",
    "def lastfactor(polynomial):\n",
    "    fp=polynomial.factor()\n",
    "    fp=FiniteEnumeratedSet(fp)\n",
    "    return factorpairToFactor(fp.last())\n",
    "\n",
    "def reduced(polynomial):\n",
    "    return numericalfactor(polynomial)*lastfactor(polynomial)\n",
    "\n",
    "def element(k,listo):\n",
    "    if k>len(listo):return (print(\"bad k\"))\n",
    "    return listo[k-1]\n",
    "\n",
    "def mobiusInverseOfFunction(g,n):\n",
    "    dv=divisors(n)\n",
    "    nd=len(dv)\n",
    "    f=0\n",
    "    for k in [1..nd]:\n",
    "        dvk=element(k,dv)\n",
    "        f=f+moebius(dvk)*g(n/dvk)\n",
    "    return f\n",
    "\n",
    "def mobiusInverseOfList(g,n):\n",
    "    dv=divisors(n)\n",
    "    nd=len(dv)\n",
    "    f=0\n",
    "    for k in [1..nd]:\n",
    "        dvk=element(k,dv)\n",
    "        gndvk=element(n/dvk,g)\n",
    "        f=f+moebius(dvk)*gndvk\n",
    "    return f\n",
    "\n",
    "def drop_first_element(listo):\n",
    "    lenth=len(listo)\n",
    "    answer=[]\n",
    "    for k in [1..lenth-1]:\n",
    "        answer=answer+[listo[k]]\n",
    "    return answer\n",
    "\n",
    "def factorSeriesFromLists(lsst,bound):\n",
    "    truncatedlist=drop_first_element(lsst)\n",
    "    F=[element(1,truncatedlist)]\n",
    "    nswr=[-mobiusInverseOfList(F,1)/1]\n",
    "    for n in [2..bound]:\n",
    "        summ=0\n",
    "        for k in [1..n-1]:\n",
    "            ekf=element(k,F)\n",
    "            tnk=element(n-k,truncatedlist)\n",
    "            summ=summ+ekf*tnk\n",
    "        Fn=n*element(n,truncatedlist)-summ\n",
    "        F=F+[Fn]\n",
    "        xpn=-mobiusInverseOfList(F,n)/n\n",
    "        nswr=nswr+[xpn]\n",
    "    return nswr\n",
    "\n",
    "def factorSeriesFromListsWithTracking(lsst,bound):\n",
    "    truncatedlist=drop_first_element(lsst)\n",
    "    F=[element(1,truncatedlist)]\n",
    "    nswr=[-mobiusInverseOfList(F,1)/1]\n",
    "    for n in [2..bound]:\n",
    "        summ=0\n",
    "        for k in [1..n-1]:\n",
    "            ekf=element(k,F)\n",
    "            tnk=element(n-k,truncatedlist)\n",
    "            summ=summ+ekf*tnk\n",
    "            print((n,k))\n",
    "        Fn=n*element(n,truncatedlist)-summ\n",
    "        F=F+[Fn]\n",
    "        xpn=-mobiusInverseOfList(F,n)/n\n",
    "        nswr=nswr+[xpn]\n",
    "        print(\"answer length: \",len(nswr))\n",
    "    return nswr\n",
    "\n",
    "def EulerMultiplication(listo):\n",
    "    # Lemma 2.11 from my 1998 Experimental Mathematics paper.\n",
    "    # Here the set A in the lemma is {1, 2, ...} = Z^+.\n",
    "    p_A=[1] # so p_A[0]=1 as on top of p. 266, column 2.\n",
    "    def ex(n):return listo[n-1] # ex is the exponent on the factor 1-x^n: -f(n)/n.\n",
    "    def f(n):return -n*ex(n)\n",
    "    answer=[1]\n",
    "    def f_A(k):\n",
    "        summ=0\n",
    "        dk=divisors(k)\n",
    "        for d in dk: #Here is where A = Z^+ is used to drop a constraint on k.\n",
    "            summ=summ+f(d)\n",
    "        return summ\n",
    "    for n in [1..len(listo)-1]:\n",
    "        sm=0\n",
    "        for k in [1..n]:\n",
    "            sm=sm+f_A(k)*p_A[n-k]\n",
    "        p_A=p_A+[sm/n]\n",
    "    return p_A\n",
    "\n",
    "def listToPoly(listo):\n",
    "    lenth=len(listo)\n",
    "    answer=0\n",
    "    for k in [1..lenth]:\n",
    "        cf=listo[k-1]\n",
    "        answer=answer+cf*x^(k-1)\n",
    "    return answer\n",
    "    \n",
    "#Broadhurst code from #A005148:\n",
    "\n",
    "#? {nt=100; a=[1]; b=[1]; d=1; e=0; g=0; print(1); for(n=2, nt, c=48*(a[n-1]+g)+128*(d-32*e); \n",
    "#e=d; d=c; i=(n-1)\\2; g=12*if(n%2==0, a[n/2]^2)+24*sum(j=1, i, \n",
    "#a[j]*a[n-j]); h=12*if(n%2==0, b[n/2]^2)+24*sum(j=1, i, b[j]*b[n-j]); f=(c+5*h)/n^2-g; a=concat(a, f); \n",
    "#b=concat(b, n*f); print(f))}\n",
    "\n",
    "#produces this on the PARI online evaluator (I have inserted the commas):\n",
    "br=[\n",
    "1,\n",
    "47,\n",
    "2488,\n",
    "138799,\n",
    "7976456,\n",
    "467232200,\n",
    "27736348480,\n",
    "1662803271215,\n",
    "100442427373480,\n",
    "6103747246289272,\n",
    "372725876150863808,\n",
    "22852464771010647496,\n",
    "1405886026610765892544,\n",
    "86741060172969340021952,\n",
    "5365190340823180439326208,\n",
    "332577246704242939511725615,\n",
    "20655377769544663820919905000,\n",
    "1285027807539621869480480977880,\n",
    "80066610886753513409821525593280,\n",
    "4995543732566526565060187887772024,\n",
    "312067903389730540416319245145039936,\n",
    "19516459352109724206910675815791735872,\n",
    "1221787478073080268912138739833447254528,\n",
    "76558881238278398609546573647116818306504,\n",
    "4801399849802188285872546222298724299377856,\n",
    "301358552889212442951924121355286655092791360,\n",
    "18928524108186605379268259069278244869735006720,\n",
    "1189719542605042010945455887482239233732751142080,\n",
    "74824958481405101799295401923145498080031496317440,\n",
    "4708731584940969251488540213411242070133095720768000,\n",
    "296483323638911778793802123013217365155428610625064960,\n",
    "18677571039055424502042574350078071038555962934810664495,\n",
    "1177200955467256907707767829606512556434525730284672082280,\n",
    "74229820742983998523807878655148660941364964757170232076440,\n",
    "4682657672641000613276353688819373189604961982881761635174080,\n",
    "295516785862704112676947743865736338547152307208873658542187480,\n",
    "18656838683258040776726836797753969443154060448210951169536087360,\n",
    "1178287550937265649491805466460363896744099593833261406542090821440,\n",
    "74441259433548426510664621182339422182178689134172479673100078686720,\n",
    "4704546876230537649051669928635037299315044055233418643313504347890040,\n",
    "297410696380227510473584821926459754598587577997951261584830786025989440,\n",
    "18807176292551896455842616399574167855948518855982280636468413444438841280,\n",
    "1189632505858785415664268185396568316810012962868095237190924015678644805120,\n",
    "75269436592700558660145646818728077669744495747378078929068356710829357904960,\n",
    "4763606735739477078702262301306618196904330454342036172567804617626114845601280,\n",
    "301550219357655322958904198748139655940272138707157414253528789096123355242370560,\n",
    "19093491105382437947961430595496009051927469794600124607374594862297809973497425920,\n",
    "1209229421833128214532165231904398024088456532579184673374765702204525386892709582280,\n",
    "76599462222171488217469562807555444840329820375936645628428503967599842536403748392640,\n",
    "4853249476279584943018752544135518205835823652569328104071808597099976302206777672382272,\n",
    "307557161322636240130429378891312616501367843861094990590342588813640658716687276702796288,\n",
    "19494049310445477564550759598016449348244789590449694853790210431694353584090244058674665536,\n",
    "1235828235382992966112000337356874542591602729215314383988292324949451319922660010288507026944,\n",
    "78359386541981263753587663605771220395173695760309511724942887619218844604408365062990458445312,\n",
    "4969331730256147172835336645727281480799885420753251882375600240456687485460922105379475213365248,\n",
    "315192836223790555211163444188645825759965673786927108224693473418739558121668975477385609064230080,\n",
    "19995098780164839843271975968833674908892528077762766665489021901583285029365260596621852077438476800,\n",
    "1268636632413268672729488723673519658349225434504337043331170274695193536624267473803997222986457986560,\n",
    "80503572319005599896519802085748511261953758070993177770252662999751870126880338970620619030455487016960,\n",
    "5109226023515231795174271806642022238278119546486922652746346463140324125835625762209193286894097317188096,\n",
    "324306079896787161344357124063601140357997183120543361083780244695916059297903737976316852087325736124084224,\n",
    "20587951238469144728875413572545165973124146169862711202444824611729329948630917798996527215521428049827442688,\n",
    "1307155886598940172607280751052393343723376964347599361863473016335357927316478471270092962849033836059872428032,\n",
    "83003437890819298061159220674050513337514687509034267017635549288525596646068731914307086031798152640655708675631,\n",
    "5271297646867701243231620056348828996858362139183014747261830107569871776680492045283621280463257824831450361228904,\n",
    "334803625831811164273307471398151444570380979015726639675077730502474540099263374815508109958714263034979870045590040,\n",
    "21267301347069209180434546119316800827596753601228462222166318226579132663526299067285136882052633679235269979706997440,\n",
    "1351085301766957831759285167329838127692235945761375100182242807152550787271816136969058195839695684514251809964546971800,\n",
    "85842015014782910888737358332857326909867676530325317899274801087388530640486646412863052257542933472850576480889534912320,\n",
    "5454594181103314395353884318297045062026694474478123129221277721208935931363965378785241897523306877686001373372245607417152,\n",
    "346632363267943630179319892957146981236491202095299908808662717047804243504180203803669349935923567992160546743779715198734848,\n",
    "22030211252839896655760044436342222596667157343136792244243996326108725373610974640845764035532176284454550965374859141605876696,\n",
    "1400264005045227498693320089227035884825680282492704474103652886750979292873550448366299419926933438094105780187281431855082851904,\n",
    "89010607580108363146057947796447019984406819117601908324673767705214888723143847657440514237648023072092581303730690468541358446272,\n",
    "5658653431087770147783431973072442739707731119479989465299403213540757386414610090412270459203277370032300491403324236240673058231808,\n",
    "359768282283136451938233183643880156808956764689158714079901896700007719423392215459057530585195812985027222576505521483746145927094080,\n",
    "22875473496936829687402292014161718834412927763836095316924893494178776078421448526507427925257601899589958056800447532066174066611688960,\n",
    "1454634188002381701560543002374509285000151863499255133979293536524595484779236558931041033869616374153934389337102738325693541500885040640,\n",
    "92506668310411752697700027500541107599054510647853447997767226456825933551220718898889759216482942932408592031625495444638507054727309701120,\n",
    "5883380647402071727818124358464357357061997088366913641247755161122708769301392216445412497947130792332367814389247083022141893681918673035640,\n",
    "374209367072642703061850255891790471856520862005092473938011251040764312378697398309875157737634899606364054132972840806767260748645213681887040,\n",
    "23803199270417251468737963122626707467816366171461192749563400557478169477201165362512851772159448598935076348960799452562007578125691327998310080,\n",
    "1514217230105491006416286735192399705713778112569360921940868647785308212475854144353099514116567802127049424293324092083010142613089652094239352320,\n",
    "96332413045374746200370571514086365134691986056054938357641223739177015618938978964850794817403946266783867698429445521201166592631737075434674509760,\n",
    "6128968041798698464871983060993177701445048464359248049771600533082817745158394358756109989641756654653420473533147391458535031474858708357818557350400,\n",
    "389970917973786025826826148232023527188983145106526374860563378061488842725970203994300386046448714269543873579140545202535929354547230426525139471434240,\n",
    "24814546341676335548842726357075976008312393230217108797033854347814848781823641548406242672165084256308341602099263161325277248861481206883551599766753280,\n",
    "1579097865621621078127966349210038916312383695762720347829578839794195077696910123713050602263102661325782769915208166009373762048848807388370046579798291520,\n",
    "100493898862353192639599085772479279507605308104393463045761183781449039477596456154787934584841158653853713852389459365917827655606822211804400142188630504960,\n",
    "6395841086583513721518708585123859851483827511052356442692606484016955654747071476807355907729334535301712240745743084597082858081715137457733426771133436244480,\n",
    "407082422122816769108928976084224767774083074925265772652509091404070682745260601092117551854989868576150378265801324011663291789547097044490460289150388722831360,\n",
    "25911536639811395996751656925990326528992266850810482361355730044302538357241007798389242049209348961586470395969302758332164645822911593670231053397678686836037120,\n",
    "1649413547559894591700394303117536943729317363777978884992676745553087694293098678096611231647446457954863017134436134803435906819926459313995976199288693719229255680,\n",
    "105000403824773770333649105789820480034335517728840968988334310643726824123735041790377778857595055184234699203779438530862092851011368656739154398110404364696677847040,\n",
    "6684622341158487811999668275612452018461145981041862416511208589860402818472403829783593014653257049064920715626593324371966426230798803277918448269747031588460412436480,\n",
    "425585443813049916737778209891287760908166309712249413374261870396364033955750883326966977701620958916811619741413201896787531939944010422188516605008297556440177053390280,\n",
    "27096933232548903092613115617140470313230857234611666991627504070866204307527763605986822544358886296299818124185350044201435781986714935884426869011696899042312957811757760,\n",
    "1725347275200146778788065707502165945462707429554800950293313680035690477290460889039398857128345130378453865634762702538349329424603778897699271642610584658725955102258591040,\n",
    "109864008941653383497254010859226498595190791378492674731068039950918263737791469856053624392850573136737164626778125500188292591996295723267255817207828065983109119673561029120,\n",
    "6996107097499132971946127571962655485323611430800974100070703369809020527942862074490096967477739069312314066266444140870911945979977377211097174725520015644037734486845682825024]\n",
    "\n",
    "def broadhurst(n):return br[n-1]\n",
    "\n",
    "def stripQuotationMarks(string):\n",
    "    var('x')\n",
    "    return sage_eval(string,locals={'x':x})\n",
    "\n",
    "print(\"okay\")"
   ]
  },
  {
   "cell_type": "code",
   "execution_count": 3,
   "id": "285e647e",
   "metadata": {},
   "outputs": [
    {
     "name": "stdout",
     "output_type": "stream",
     "text": [
      "100\n",
      "20\n",
      "120\n"
     ]
    }
   ],
   "source": [
    "import pickle\n",
    "\n",
    "rsfile = open('/Users/barrybrent/13dec22no1.txt','rb')\n",
    "rs=pickle.load(rsfile)\n",
    "rsfile.close()\n",
    "s=stripQuotationMarks(rs)\n",
    "print(len(s))\n",
    "\n",
    "rtfile = open('/Users/barrybrent/13dec22no2.txt','rb') # see cell below\n",
    "rt=pickle.load(rtfile)\n",
    "rtfile.close()\n",
    "t=stripQuotationMarks(rt)\n",
    "print(len(t))\n",
    "\n",
    "u=[]\n",
    "for j in s:u=u+[j]\n",
    "for j in t:u=u+[j]\n",
    "print(len(u)) \n",
    "# this takes so long to make that I will\n",
    "# reserve the letter y for the file created on lines 15-17.\n",
    "# in all cells below. I won't reload, as I usually do,\n",
    "# in every cell."
   ]
  },
  {
   "cell_type": "code",
   "execution_count": null,
   "id": "57eed735",
   "metadata": {},
   "outputs": [],
   "source": [
    "#output snipped\n",
    "polydata=[]\n",
    "\n",
    "import time\n",
    "for power in [1..100]:\n",
    "    start=time.time()/3600\n",
    "    data=[]\n",
    "    for m in [3..3*power+3]:\n",
    "        cst= JpowerConstantTerm(m,power)\n",
    "        data=data+[[m,cst]]\n",
    "    rl=R.lagrange_polynomial(data)\n",
    "    deg=rl.degree()\n",
    "    polydata=polydata+[[power,rl]]\n",
    "    finish=time.time()/3600\n",
    "    print(\"(power,degree,time): \",(power,deg,finish-start))\n",
    "\n",
    "import pickle\n",
    "wfile = open('/Users/barrybrent/13dec22no1.txt','wb')\n",
    "t = pickle.dumps(str(polydata))\n",
    "wfile.write(t)\n",
    "wfile.close()\n",
    "############################################################################################################\n",
    "polydata=[]\n",
    "\n",
    "import time\n",
    "for power in [101..120]:\n",
    "    start=time.time()/3600\n",
    "    data=[]\n",
    "    for m in [3..3*power+3]:\n",
    "        cst= JpowerConstantTerm(m,power)\n",
    "        data=data+[[m,cst]]\n",
    "    rl=R.lagrange_polynomial(data)\n",
    "    deg=rl.degree()\n",
    "    polydata=polydata+[[power,rl]]\n",
    "    finish=time.time()/3600\n",
    "    print(\"(power,degree,time): \",(power,deg,finish-start))\n",
    "\n",
    "import pickle\n",
    "wfile = open('/Users/barrybrent/13dec22no2.txt','wb')\n",
    "t = pickle.dumps(str(polydata))\n",
    "wfile.write(t)\n",
    "wfile.close()"
   ]
  },
  {
   "cell_type": "code",
   "execution_count": 4,
   "id": "adb1043f",
   "metadata": {},
   "outputs": [
    {
     "name": "stdout",
     "output_type": "stream",
     "text": [
      "(1, 1)\n",
      "(2, 47)\n",
      "(3, 2488)\n",
      "(4, 138799)\n",
      "(5, 7976456)\n"
     ]
    }
   ],
   "source": [
    "for k in [1..5]:\n",
    "    print((k,broadhurst(k)))"
   ]
  },
  {
   "cell_type": "code",
   "execution_count": 5,
   "id": "f08f7262",
   "metadata": {},
   "outputs": [
    {
     "data": {
      "text/plain": [
       "-2"
      ]
     },
     "execution_count": 5,
     "metadata": {},
     "output_type": "execute_result"
    }
   ],
   "source": [
    "order(2,3/4)"
   ]
  },
  {
   "cell_type": "code",
   "execution_count": 6,
   "id": "63d4594c",
   "metadata": {},
   "outputs": [
    {
     "name": "stdout",
     "output_type": "stream",
     "text": [
      "-8\n"
     ]
    }
   ],
   "source": [
    "print(order(2,1/205915392))"
   ]
  },
  {
   "cell_type": "code",
   "execution_count": 3,
   "id": "9713c22d",
   "metadata": {},
   "outputs": [
    {
     "name": "stdout",
     "output_type": "stream",
     "text": [
      "[0, 0, 0, 0, 0, 0, 0, 0, 0, 0, 0, 0, 0, 0, 0, 0, 0, 0, 0, 0, 0, 0, 0, 0, 0, 0, 0, 0, 0, 0, 0, 0, 0, 0, 0, 0, 0, 0, 0, 0, 0, 0, 0, 0, 0, 0, 0, 0, 0, 0, 0, 0, 0, 0, 0, 0, 0, 0, 0, 0, 0, 0, 0, 0, 0, 0, 0, 0, 0, 0, 0, 0, 0, 0, 0, 0, 0, 0, 0, 0, 0, 0, 0, 0, 0, 0, 0, 0, 0, 0, 0, 0, 0, 0, 0, 0, 0, 0]\n"
     ]
    }
   ],
   "source": [
    "data=[]\n",
    "for n in [2..99]:\n",
    "    nsz2=order(2,ZZ(broadhurst(n)))\n",
    "    ds2=digitsum(2,n)\n",
    "    data=data+[nsz2-(3*ds2-3)]\n",
    "print(data)"
   ]
  },
  {
   "cell_type": "code",
   "execution_count": null,
   "id": "321cfe7f",
   "metadata": {},
   "outputs": [],
   "source": [
    "residues=[]\n",
    "for k in [0..len(u)-1]:\n",
    "    data=[]\n",
    "    power=u[k][0]\n",
    "    poly=D(u[k][1]) # poly(m) = cst term of j_m^power\n",
    "    nf=QQ(numericalfactor(poly))\n",
    "    polyd=expand(poly/nf)\n",
    "    v=evaluate(polyd,3)\n",
    "    residue=mod(v,2)\n",
    "    residues=residues+[residue]\n",
    "print(residues) # so, within the range of observations,ord(2,cst term of j_3^power) = ord(2,nf)\n",
    "# i.e., ord(2,cst term of j^power) = ord(2,nf) and per cell above, ord(2,nf)\n",
    "# obeys the 2-order rule in my '98 Exp. Math. article."
   ]
  },
  {
   "cell_type": "code",
   "execution_count": 17,
   "id": "737cd2d1",
   "metadata": {},
   "outputs": [
    {
     "name": "stdout",
     "output_type": "stream",
     "text": [
      "----------------------------------------------------------------------------\n",
      "power: 1\n",
      "x^6 - 2409555566418/58638404089*x^5 + 41294152300198/58638404089*x^4 - 380038442003220/58638404089*x^3 + 2002024211631241/58638404089*x^2 - 5843938015317402/58638404089*x + 12868026480268632/58638404089\n",
      "(1, 3, 1, 2)\n",
      "----------------------------------------------------------------------------\n",
      "power: 2\n",
      "x^6 - 2409555566418/58638404089*x^5 + 41294152300198/58638404089*x^4 - 380038442003220/58638404089*x^3 + 2002024211631241/58638404089*x^2 - 5843938015317402/58638404089*x + 12868026480268632/58638404089\n",
      "(1, 9, 2, 4)\n",
      "----------------------------------------------------------------------------\n",
      "power: 3\n",
      "x^6 - 2409555566418/58638404089*x^5 + 41294152300198/58638404089*x^4 - 380038442003220/58638404089*x^3 + 2002024211631241/58638404089*x^2 - 5843938015317402/58638404089*x + 12868026480268632/58638404089\n",
      "(2, 12, 1, 8)\n",
      "----------------------------------------------------------------------------\n",
      "power: 4\n",
      "x^6 - 2409555566418/58638404089*x^5 + 41294152300198/58638404089*x^4 - 380038442003220/58638404089*x^3 + 2002024211631241/58638404089*x^2 - 5843938015317402/58638404089*x + 12868026480268632/58638404089\n",
      "(1, 21, 2, 10)\n",
      "----------------------------------------------------------------------------\n",
      "power: 5\n",
      "x^6 - 2409555566418/58638404089*x^5 + 41294152300198/58638404089*x^4 - 380038442003220/58638404089*x^3 + 2002024211631241/58638404089*x^2 - 5843938015317402/58638404089*x + 12868026480268632/58638404089\n",
      "(2, 24, 3, 12)\n",
      "----------------------------------------------------------------------------\n",
      "power: 6\n",
      "x^6 - 2409555566418/58638404089*x^5 + 41294152300198/58638404089*x^4 - 380038442003220/58638404089*x^3 + 2002024211631241/58638404089*x^2 - 5843938015317402/58638404089*x + 12868026480268632/58638404089\n",
      "(2, 30, 2, 16)\n"
     ]
    }
   ],
   "source": [
    "for j in [0..5]:\n",
    "    print(\"----------------------------------------------------------------------------\")\n",
    "    power=u[j][0]\n",
    "    print(\"power:\",power)\n",
    "    poly=D(u[j][1]) # poly(m) = cst term of j_m^power\n",
    "    #nf=QQ(numericalfactor(poly))\n",
    "    #polyd=expand(poly/nf)\n",
    "    print(polyd.factor())\n",
    "    v=evaluate(poly,3)\n",
    "    d2=digitsum(2,power)\n",
    "    d3=digitsum(3,power)\n",
    "    o2=order(2,v)\n",
    "    o3=order(3,v)\n",
    "    print((d2,-o2,d3,-o3))\n",
    "    \n",
    "    \n",
    " "
   ]
  },
  {
   "cell_type": "code",
   "execution_count": 18,
   "id": "5c41c6db",
   "metadata": {},
   "outputs": [
    {
     "name": "stdout",
     "output_type": "stream",
     "text": [
      "(1, 1, 3, 1, 2)\n",
      "(2, 1, 9, 2, 4)\n",
      "(3, 2, 12, 1, 8)\n",
      "(4, 1, 21, 2, 10)\n",
      "(5, 2, 24, 3, 12)\n",
      "(6, 2, 30, 2, 16)\n"
     ]
    }
   ],
   "source": [
    "for j in [0..5]:\n",
    "    power=u[j][0]\n",
    "    #print(\"power:\",power)\n",
    "    poly=D(u[j][1]) # poly(m) = cst term of j_m^power\n",
    "    #nf=QQ(numericalfactor(poly))\n",
    "    #polyd=expand(poly/nf)\n",
    "    #print(polyd.factor())\n",
    "    v=evaluate(poly,3)\n",
    "    d2=digitsum(2,power)\n",
    "    d3=digitsum(3,power)\n",
    "    o2=order(2,v)\n",
    "    o3=order(3,v)\n",
    "    print((power,d2,-o2,d3,-o3))"
   ]
  },
  {
   "cell_type": "code",
   "execution_count": 24,
   "id": "ef763433",
   "metadata": {},
   "outputs": [
    {
     "name": "stdout",
     "output_type": "stream",
     "text": [
      "[3, 9, 12, 21, 24, 30, 33, 45, 48, 54, 57, 66, 69, 75, 78, 93, 96, 102, 105, 114, 117]\n",
      "\n",
      "[6, 3, 9, 3, 6, 3, 12, 3, 6, 3, 9, 3, 6, 3, 15, 3, 6, 3, 9, 3]\n",
      "\n",
      "[2, 4, 8, 10, 12, 16, 18, 20, 26, 28, 30, 34, 36, 38, 42, 44, 46, 52, 54, 56, 60]\n",
      "\n",
      "[2, 4, 2, 2, 4, 2, 2, 6, 2, 2, 4, 2, 2, 4, 2, 2, 6, 2, 2, 4]\n"
     ]
    }
   ],
   "source": [
    "data2=[];data3=[]\n",
    "for j in [0..20]:\n",
    "    power=u[j][0]\n",
    "    #print(\"power:\",power)\n",
    "    poly=D(u[j][1]) # poly(m) = cst term of j_m^power\n",
    "    #nf=QQ(numericalfactor(poly))\n",
    "    #polyd=expand(poly/nf)\n",
    "    #print(polyd.factor())\n",
    "    v=evaluate(poly,3)\n",
    "    d2=digitsum(2,power)\n",
    "    d3=digitsum(3,power)\n",
    "    o2=order(2,v)\n",
    "    o3=order(3,v)\n",
    "    data2=data2+[-o2];data3=data3+[-o3]\n",
    "print(data2);print()\n",
    "dt2=difference_table(data2)\n",
    "print(dt2);print()\n",
    "print(data3);print()\n",
    "dt3=difference_table(data3)\n",
    "print(dt3)"
   ]
  },
  {
   "cell_type": "code",
   "execution_count": 26,
   "id": "4ff57a76",
   "metadata": {},
   "outputs": [
    {
     "name": "stdout",
     "output_type": "stream",
     "text": [
      "[3, 9, 6, 21, 12, 15, 11, 45, 24, 27, 19, 33, 23, 25, 39/2, 93, 48, 51, 35, 57, 39]\n",
      "\n",
      "[6, -3, 15, -9, 3, -4, 34, -21, 3, -8, 14, -10, 2, -11/2, 147/2, -45, 3, -16, 22, -18]\n",
      "\n",
      "[2, 2, 8, 5, 4, 8, 6, 5, 26, 14, 10, 17, 12, 19/2, 14, 11, 46/5, 26, 18, 14, 20]\n",
      "\n",
      "[0, 6, -3, -1, 4, -2, -1, 21, -12, -4, 7, -5, -5/2, 9/2, -3, -9/5, 84/5, -8, -4, 6]\n"
     ]
    }
   ],
   "source": [
    "data2=[];data3=[]\n",
    "for j in [0..20]:\n",
    "    power=u[j][0]\n",
    "    #print(\"power:\",power)\n",
    "    poly=D(u[j][1]) # poly(m) = cst term of j_m^power\n",
    "    #nf=QQ(numericalfactor(poly))\n",
    "    #polyd=expand(poly/nf)\n",
    "    #print(polyd.factor())\n",
    "    v=evaluate(poly,3)\n",
    "    d2=digitsum(2,power)\n",
    "    d3=digitsum(3,power)\n",
    "    o2=order(2,v)\n",
    "    o3=order(3,v)\n",
    "    data2=data2+[-o2/d2];data3=data3+[-o3/d3]\n",
    "print(data2);print()\n",
    "dt2=difference_table(data2)\n",
    "print(dt2);print()\n",
    "print(data3);print()\n",
    "dt3=difference_table(data3)\n",
    "print(dt3)"
   ]
  },
  {
   "cell_type": "code",
   "execution_count": 37,
   "id": "f242c778",
   "metadata": {},
   "outputs": [
    {
     "name": "stdout",
     "output_type": "stream",
     "text": [
      "[3, 3, 3, 3, 3, 3, 3, 3, 3, 3, 3, 3, 3, 3, 9, 9, 9, 9, 9, 9, 9, 9, 9, 9, 9, 9, 9, 9, 21, 21, 21, 21, 21, 21, 21, 21, 21, 21, 21, 21, 21, 21, 45, 45, 45, 45, 45, 45, 45, 45, 45, 45, 45, 45, 45, 45, 93, 93, 93, 93, 93, 93, 93, 93, 93, 93, 93, 93, 93, 93]\n",
      "\n",
      "[3, 9, 21, 45, 93]\n"
     ]
    }
   ],
   "source": [
    "data=[]\n",
    "p=2\n",
    "ds=1\n",
    "mp=0\n",
    "for pj in [0..20]:\n",
    "    power=u[pj][0]\n",
    "    if digitsum(p,power)==ds:\n",
    "        poly=D(u[pj][1]) \n",
    "        for m in [3..30]:\n",
    "            if mod(m,p)==mp:\n",
    "                v=evaluate(poly,3) #coding error, but there is a hit for ud: A068156\n",
    "                o=order(p,v)\n",
    "                data=data+[-o]\n",
    "print(data);print()\n",
    "ud=uniteList(data)\n",
    "print(ud)"
   ]
  },
  {
   "cell_type": "code",
   "execution_count": 68,
   "id": "e058918a",
   "metadata": {},
   "outputs": [
    {
     "name": "stdout",
     "output_type": "stream",
     "text": [
      "(1, 0, 3)\n",
      "(2, 1, 9)\n",
      "(4, 2, 21)\n",
      "(8, 3, 45)\n",
      "(16, 4, 93)\n",
      "(32, 5, 189)\n",
      "(64, 6, 381)\n",
      "[3, 9, 21, 45, 93, 189, 381]\n",
      "\n",
      "[(0, 3), (1, 9), (2, 21), (3, 45), (4, 93), (5, 189), (6, 381)]\n"
     ]
    }
   ],
   "source": [
    "data=[]\n",
    "pairs=[]\n",
    "p=2\n",
    "ds=1\n",
    "mp=0\n",
    "no=[]\n",
    "for pj in [0..len(u)-1]:\n",
    "    k=u[pj][0]\n",
    "    if digitsum(p,k)==ds:\n",
    "        b=len(k.digits(p))-1 # so k = 2^b\n",
    "        poly=D(u[pj][1]) \n",
    "        for m in [3..3]:\n",
    "            v=evaluate(poly,3)  \n",
    "            o=order(p,v)\n",
    "            pairs=pairs+[(b,-o)]\n",
    "            data=data+[-o]\n",
    "            print((k,b,-o))\n",
    "ud=uniteList(data)\n",
    "print(ud) #A068156 \n",
    "print()\n",
    "up=uniteList(pairs);print(up)"
   ]
  },
  {
   "cell_type": "code",
   "execution_count": 70,
   "id": "3f09796e",
   "metadata": {},
   "outputs": [
    {
     "name": "stdout",
     "output_type": "stream",
     "text": [
      "(1, 0, 2)\n",
      "(3, 1, 8)\n",
      "(9, 2, 26)\n",
      "(27, 3, 80)\n",
      "(81, 4, 242)\n",
      "[2, 8, 26, 80, 242]\n",
      "\n",
      "[(0, 2), (1, 8), (2, 26), (3, 80), (4, 242)]\n"
     ]
    }
   ],
   "source": [
    "data=[]\n",
    "pairs=[]\n",
    "p=3\n",
    "ds=1\n",
    "mp=0\n",
    "no=[]\n",
    "for pj in [0..len(u)-1]:\n",
    "    k=u[pj][0]\n",
    "    if digitsum(p,k)==ds:\n",
    "        b=len(k.digits(p))-1 # so power = 2^b\n",
    "        poly=D(u[pj][1]) \n",
    "        for m in [3..3]:\n",
    "            v=evaluate(poly,3)  \n",
    "            o=order(p,v)\n",
    "            pairs=pairs+[(b,-o)]\n",
    "            data=data+[-o]\n",
    "            print((k,b,-o))\n",
    "ud=uniteList(data)\n",
    "print(ud) \n",
    "print()\n",
    "up=uniteList(pairs);print(up) # 3^n - 1"
   ]
  },
  {
   "cell_type": "code",
   "execution_count": 71,
   "id": "0b21364c",
   "metadata": {},
   "outputs": [
    {
     "name": "stdout",
     "output_type": "stream",
     "text": [
      "(1, 0, 0)\n",
      "(5, 1, 0)\n",
      "(25, 2, 0)\n",
      "[0]\n",
      "\n",
      "[(0, 0), (1, 0), (2, 0)]\n"
     ]
    }
   ],
   "source": [
    "data=[]\n",
    "pairs=[]\n",
    "p=5\n",
    "ds=1\n",
    "mp=0\n",
    "no=[]\n",
    "for pj in [0..len(u)-1]:\n",
    "    k=u[pj][0]\n",
    "    if digitsum(p,k)==ds:\n",
    "        b=len(k.digits(p))-1 # so power = 2^b\n",
    "        poly=D(u[pj][1]) \n",
    "        for m in [3..3]:\n",
    "            v=evaluate(poly,m)  \n",
    "            o=order(p,v)\n",
    "            pairs=pairs+[(b,-o)]\n",
    "            data=data+[-o]\n",
    "            print((k,b,-o))\n",
    "ud=uniteList(data)\n",
    "print(ud) \n",
    "print()\n",
    "up=uniteList(pairs);print(up)"
   ]
  },
  {
   "cell_type": "code",
   "execution_count": 66,
   "id": "b4c5a3eb",
   "metadata": {},
   "outputs": [
    {
     "name": "stdout",
     "output_type": "stream",
     "text": [
      "(1, 0, 1)\n",
      "(2, 1, 3)\n",
      "(4, 2, 7)\n",
      "(8, 3, 15)\n",
      "(16, 4, 31)\n",
      "(32, 5, 63)\n",
      "(64, 6, 127)\n",
      "[1, 3, 7, 15, 31, 63, 127]\n",
      "\n",
      "[(0, 1), (1, 3), (2, 7), (3, 15), (4, 31), (5, 63), (6, 127)]\n",
      "decreases: 0\n"
     ]
    }
   ],
   "source": [
    "def mx(lst):\n",
    "    if lst==[]:return -Infinity\n",
    "    if lst!=[]:return(max(lst))\n",
    "data=[]\n",
    "pairs=[]\n",
    "p=2\n",
    "ds=1\n",
    "mp=0\n",
    "no=[]\n",
    "m=6\n",
    "for pj in [0..len(u)-1]:\n",
    "    k=u[pj][0]\n",
    "    if digitsum(p,k)==ds:\n",
    "        b=len(k.digits(p))-1 # so k = 2^b\n",
    "        poly=D(u[pj][1]) \n",
    "        v=evaluate(poly,m)  \n",
    "        o=order(p,v)\n",
    "        if (-o>mx(data))==False:no=no+[o]\n",
    "        pairs=pairs+[(b,-o)]\n",
    "        data=data+[-o]\n",
    "        print((k,b,-o))\n",
    "ud=uniteList(data) # 2^n-1\n",
    "print(ud)\n",
    "print()\n",
    "up=uniteList(pairs);print(up)\n",
    "print(\"decreases:\",len(no))"
   ]
  },
  {
   "cell_type": "code",
   "execution_count": 72,
   "id": "a152b7e6",
   "metadata": {},
   "outputs": [
    {
     "name": "stdout",
     "output_type": "stream",
     "text": [
      "(1, 0, 2)\n",
      "(3, 1, 8)\n",
      "(9, 2, 26)\n",
      "(27, 3, 80)\n",
      "(81, 4, 242)\n",
      "[2, 8, 26, 80, 242]\n",
      "\n",
      "[(0, 2), (1, 8), (2, 26), (3, 80), (4, 242)]\n",
      "decreases: 0\n"
     ]
    }
   ],
   "source": [
    "def mx(lst):\n",
    "    if lst==[]:return -Infinity\n",
    "    if lst!=[]:return(max(lst))\n",
    "data=[]\n",
    "pairs=[]\n",
    "p=3\n",
    "ds=1\n",
    "mp=0\n",
    "no=[]\n",
    "m=6\n",
    "for pj in [0..len(u)-1]:\n",
    "    k=u[pj][0]\n",
    "    if digitsum(p,k)==ds:\n",
    "        b=len(k.digits(p))-1 # so k = 2^b\n",
    "        poly=D(u[pj][1]) \n",
    "        v=evaluate(poly,m)  \n",
    "        o=order(p,v)\n",
    "        if (-o>mx(data))==False:no=no+[o]\n",
    "        pairs=pairs+[(b,-o)]\n",
    "        data=data+[-o]\n",
    "        print((k,b,-o))\n",
    "ud=uniteList(data) # 3^n-1\n",
    "print(ud) #A068156 \n",
    "print()\n",
    "up=uniteList(pairs);print(up)\n",
    "print(\"decreases:\",len(no))"
   ]
  },
  {
   "cell_type": "code",
   "execution_count": 73,
   "id": "fea9d82b",
   "metadata": {},
   "outputs": [
    {
     "name": "stdout",
     "output_type": "stream",
     "text": [
      "(1, 0, 0)\n",
      "(5, 1, 0)\n",
      "(25, 2, 0)\n",
      "[0]\n",
      "\n",
      "[(0, 0), (1, 0), (2, 0)]\n",
      "decreases: 2\n"
     ]
    }
   ],
   "source": [
    "def mx(lst):\n",
    "    if lst==[]:return -Infinity\n",
    "    if lst!=[]:return(max(lst))\n",
    "data=[]\n",
    "pairs=[]\n",
    "p=5\n",
    "ds=1\n",
    "mp=0\n",
    "no=[]\n",
    "m=6\n",
    "for pj in [0..len(u)-1]:\n",
    "    k=u[pj][0]\n",
    "    if digitsum(p,k)==ds:\n",
    "        b=len(k.digits(p))-1 # so k = 2^b\n",
    "        poly=D(u[pj][1]) \n",
    "        v=evaluate(poly,m)  \n",
    "        o=order(p,v)\n",
    "        if (-o>mx(data))==False:no=no+[o]\n",
    "        pairs=pairs+[(b,-o)]\n",
    "        data=data+[-o]\n",
    "        print((k,b,-o))\n",
    "ud=uniteList(data) # 3^n-1\n",
    "print(ud) #A068156 \n",
    "print()\n",
    "up=uniteList(pairs);print(up)\n",
    "print(\"decreases:\",len(no))"
   ]
  },
  {
   "cell_type": "code",
   "execution_count": 74,
   "id": "c6edab26",
   "metadata": {},
   "outputs": [
    {
     "name": "stdout",
     "output_type": "stream",
     "text": [
      "(1, 0, 0)\n",
      "(4, 1, 3)\n",
      "(16, 2, 15)\n",
      "(64, 3, 63)\n",
      "[0, 3, 15, 63]\n",
      "\n",
      "[(0, 0), (1, 3), (2, 15), (3, 63)]\n",
      "decreases: 0\n"
     ]
    }
   ],
   "source": [
    "def mx(lst):\n",
    "    if lst==[]:return -Infinity\n",
    "    if lst!=[]:return(max(lst))\n",
    "data=[]\n",
    "pairs=[]\n",
    "p=4\n",
    "ds=1\n",
    "mp=0\n",
    "no=[]\n",
    "m=6\n",
    "for pj in [0..len(u)-1]:\n",
    "    k=u[pj][0]\n",
    "    if digitsum(p,k)==ds:\n",
    "        b=len(k.digits(p))-1 # so k = 2^b\n",
    "        poly=D(u[pj][1]) \n",
    "        v=evaluate(poly,m)  \n",
    "        o=order(p,v)\n",
    "        if (-o>mx(data))==False:no=no+[o]\n",
    "        pairs=pairs+[(b,-o)]\n",
    "        data=data+[-o]\n",
    "        print((k,b,-o))\n",
    "ud=uniteList(data) # 4^n-1\n",
    "print(ud) #A068156 \n",
    "print()\n",
    "up=uniteList(pairs);print(up)\n",
    "print(\"decreases:\",len(no))"
   ]
  },
  {
   "cell_type": "code",
   "execution_count": 75,
   "id": "ddb8124d",
   "metadata": {},
   "outputs": [
    {
     "name": "stdout",
     "output_type": "stream",
     "text": [
      "(1, 0, 5)\n",
      "(2, 1, 13)\n",
      "(4, 2, 29)\n",
      "(8, 3, 61)\n",
      "(16, 4, 125)\n",
      "(32, 5, 253)\n",
      "(64, 6, 509)\n",
      "[5, 13, 29, 61, 125, 253, 509]\n",
      "\n",
      "[(0, 5), (1, 13), (2, 29), (3, 61), (4, 125), (5, 253), (6, 509)]\n",
      "decreases: 0\n"
     ]
    }
   ],
   "source": [
    "def mx(lst):\n",
    "    if lst==[]:return -Infinity\n",
    "    if lst!=[]:return(max(lst))\n",
    "data=[]\n",
    "pairs=[]\n",
    "p=2\n",
    "ds=1\n",
    "mp=0\n",
    "no=[]\n",
    "m=4\n",
    "for pj in [0..len(u)-1]:\n",
    "    k=u[pj][0]\n",
    "    if digitsum(p,k)==ds:\n",
    "        b=len(k.digits(p))-1 # so k = 2^b\n",
    "        poly=D(u[pj][1]) \n",
    "        v=evaluate(poly,m)  \n",
    "        o=order(p,v)\n",
    "        if (-o>mx(data))==False:no=no+[o]\n",
    "        pairs=pairs+[(b,-o)]\n",
    "        data=data+[-o]\n",
    "        print((k,b,-o))\n",
    "ud=uniteList(data) # 2^n-3\n",
    "print(ud) #A068156 \n",
    "print()\n",
    "up=uniteList(pairs);print(up)\n",
    "print(\"decreases:\",len(no))"
   ]
  },
  {
   "cell_type": "code",
   "execution_count": 76,
   "id": "2c564188",
   "metadata": {},
   "outputs": [
    {
     "name": "stdout",
     "output_type": "stream",
     "text": [
      "(1, 0, 0)\n",
      "(3, 1, 0)\n",
      "(9, 2, 0)\n",
      "(27, 3, 0)\n",
      "(81, 4, 0)\n",
      "[0]\n",
      "\n",
      "[(0, 0), (1, 0), (2, 0), (3, 0), (4, 0)]\n",
      "decreases: 4\n"
     ]
    }
   ],
   "source": [
    "def mx(lst):\n",
    "    if lst==[]:return -Infinity\n",
    "    if lst!=[]:return(max(lst))\n",
    "data=[]\n",
    "pairs=[]\n",
    "p=3\n",
    "ds=1\n",
    "mp=0\n",
    "no=[]\n",
    "m=4\n",
    "for pj in [0..len(u)-1]:\n",
    "    k=u[pj][0]\n",
    "    if digitsum(p,k)==ds:\n",
    "        b=len(k.digits(p))-1 # so k = 2^b\n",
    "        poly=D(u[pj][1]) \n",
    "        v=evaluate(poly,m)  \n",
    "        o=order(p,v)\n",
    "        if (-o>mx(data))==False:no=no+[o]\n",
    "        pairs=pairs+[(b,-o)]\n",
    "        data=data+[-o]\n",
    "        print((k,b,-o))\n",
    "ud=uniteList(data) # 2^n-3\n",
    "print(ud) #A068156 \n",
    "print()\n",
    "up=uniteList(pairs);print(up)\n",
    "print(\"decreases:\",len(no))"
   ]
  },
  {
   "cell_type": "code",
   "execution_count": 77,
   "id": "41156303",
   "metadata": {},
   "outputs": [
    {
     "name": "stdout",
     "output_type": "stream",
     "text": [
      "(1, 0, 0)\n",
      "(3, 1, 0)\n",
      "(9, 2, 0)\n",
      "(27, 3, 0)\n",
      "(81, 4, 0)\n",
      "[0]\n",
      "\n",
      "[(0, 0), (1, 0), (2, 0), (3, 0), (4, 0)]\n",
      "decreases: 4\n"
     ]
    }
   ],
   "source": [
    "def mx(lst):\n",
    "    if lst==[]:return -Infinity\n",
    "    if lst!=[]:return(max(lst))\n",
    "data=[]\n",
    "pairs=[]\n",
    "p=3\n",
    "ds=1\n",
    "mp=0\n",
    "no=[]\n",
    "m=5\n",
    "for pj in [0..len(u)-1]:\n",
    "    k=u[pj][0]\n",
    "    if digitsum(p,k)==ds:\n",
    "        b=len(k.digits(p))-1 # so k = 2^b\n",
    "        poly=D(u[pj][1]) \n",
    "        v=evaluate(poly,m)  \n",
    "        o=order(p,v)\n",
    "        if (-o>mx(data))==False:no=no+[o]\n",
    "        pairs=pairs+[(b,-o)]\n",
    "        data=data+[-o]\n",
    "        print((k,b,-o))\n",
    "ud=uniteList(data) # 2^n-3\n",
    "print(ud) #A068156 \n",
    "print()\n",
    "up=uniteList(pairs);print(up)\n",
    "print(\"decreases:\",len(no))"
   ]
  },
  {
   "cell_type": "code",
   "execution_count": 10,
   "id": "6ae17a65",
   "metadata": {},
   "outputs": [
    {
     "data": {
      "text/plain": [
       "3"
      ]
     },
     "execution_count": 10,
     "metadata": {},
     "output_type": "execute_result"
    }
   ],
   "source": [
    "u[2][0]"
   ]
  },
  {
   "cell_type": "code",
   "execution_count": 58,
   "id": "00200589",
   "metadata": {},
   "outputs": [
    {
     "name": "stdout",
     "output_type": "stream",
     "text": [
      "[-23, -18, -24, -24, -24, -24, -24, -24, -24, -24, -24, -24, -24, -24, -24, -24, -24, -24, -24, -24, -24, -24, -24, -24, -24, -24, -24, -24, -24, -24, -24, -24, -24, -24, -24, -24, -24, -24, -24, -24, -24, -24, -24, -24, -24, -24, -24, -24, -24, -24, -24, -24, -24, -24, -24, -24, -24, -24, -24, -24, -24, -24, -24, -24, -24, -24, -24, -24, -24, -24, -24, -24, -24, -24, -24, -24, -24, -24, -24, -24, -24, -24, -24, -24, -24, -24, -24, -24, -24, -24, -24, -24, -24, -24, -24, -24, -24, -24, -24, -24, -24, -24, -24, -24, -24, -24, -24, -24, -24, -24, -24, -24, -24, -24, -24, -24, -24, -24, -24, -24, -24, -24, -24, -24, -24, -24, -24, -24, -24, -24, -24, -24, -24, -24, -24, -24, -24, -24, -24, -24, -24, -24, -24, -24, -24, -24, -24, -24, -24, -24, -24, -24, -24, -24, -24, -24, -24, -24, -24, -24, -24, -24, -24, -24, -24, -24, -24, -24, -24, -24, -24, -24, -24, -24, -24, -24, -24, -24, -24, -24, -24, -24, -24, -24, -24, -24, -24, -24, -24, -24, -24, -24, -24, -24, -24, -24, -24, -24, -24, -24]\n"
     ]
    }
   ],
   "source": [
    "# cn 3 analogue\n",
    "data=[]\n",
    "odata=[]\n",
    "p=2\n",
    "k=u[2][0] # = 3\n",
    "poly=D(u[2][1]) # poly(m) = cst term of j_m^power\n",
    "for a in [1..200]:\n",
    "    m=p^a\n",
    "    polym=evaluate(poly,m)\n",
    "    o=order(p,polym)\n",
    "    odata=odata+[o]\n",
    "print(odata)"
   ]
  },
  {
   "cell_type": "code",
   "execution_count": 57,
   "id": "3b10c928",
   "metadata": {},
   "outputs": [
    {
     "name": "stdout",
     "output_type": "stream",
     "text": [
      "[-8, -14, -14, -14, -14, -14, -14, -14, -14, -14, -14, -14, -14, -14, -14, -14, -14, -14, -14, -14, -14, -14, -14, -14, -14, -14, -14, -14, -14, -14, -14, -14, -14, -14, -14, -14, -14, -14, -14, -14, -14, -14, -14, -14, -14, -14, -14, -14, -14, -14, -14, -14, -14, -14, -14, -14, -14, -14, -14, -14, -14, -14, -14, -14, -14, -14, -14, -14, -14, -14, -14, -14, -14, -14, -14, -14, -14, -14, -14, -14, -14, -14, -14, -14, -14, -14, -14, -14, -14, -14, -14, -14, -14, -14, -14, -14, -14, -14, -14, -14, -14, -14, -14, -14, -14, -14, -14, -14, -14, -14, -14, -14, -14, -14, -14, -14, -14, -14, -14, -14, -14, -14, -14, -14, -14, -14, -14, -14, -14, -14, -14, -14, -14, -14, -14, -14, -14, -14, -14, -14, -14, -14, -14, -14, -14, -14, -14, -14, -14, -14, -14, -14, -14, -14, -14, -14, -14, -14, -14, -14, -14, -14, -14, -14, -14, -14, -14, -14, -14, -14, -14, -14, -14, -14, -14, -14, -14, -14, -14, -14, -14, -14, -14, -14, -14, -14, -14, -14, -14, -14, -14, -14, -14, -14, -14, -14, -14, -14, -14, -14]\n"
     ]
    }
   ],
   "source": [
    "# cn 3 analogue\n",
    "data=[]\n",
    "odata=[]\n",
    "p=3\n",
    "k=u[2][0] # = 3\n",
    "poly=D(u[2][1]) # poly(m) = cst term of j_m^power\n",
    "for a in [1..200]:\n",
    "    m=p^a\n",
    "    polym=evaluate(poly,m)\n",
    "    o=order(p,polym)\n",
    "    odata=odata+[o]\n",
    "print(odata)"
   ]
  },
  {
   "cell_type": "code",
   "execution_count": 59,
   "id": "f606bc8e",
   "metadata": {},
   "outputs": [
    {
     "name": "stdout",
     "output_type": "stream",
     "text": [
      "[-6, -6, -6, -6, -6, -6, -6, -6, -6, -6, -6, -6, -6, -6, -6, -6, -6, -6, -6, -6, -6, -6, -6, -6, -6, -6, -6, -6, -6, -6, -6, -6, -6, -6, -6, -6, -6, -6, -6, -6, -6, -6, -6, -6, -6, -6, -6, -6, -6, -6, -6, -6, -6, -6, -6, -6, -6, -6, -6, -6, -6, -6, -6, -6, -6, -6, -6, -6, -6, -6, -6, -6, -6, -6, -6, -6, -6, -6, -6, -6, -6, -6, -6, -6, -6, -6, -6, -6, -6, -6, -6, -6, -6, -6, -6, -6, -6, -6, -6, -6, -6, -6, -6, -6, -6, -6, -6, -6, -6, -6, -6, -6, -6, -6, -6, -6, -6, -6, -6, -6, -6, -6, -6, -6, -6, -6, -6, -6, -6, -6, -6, -6, -6, -6, -6, -6, -6, -6, -6, -6, -6, -6, -6, -6, -6, -6, -6, -6, -6, -6, -6, -6, -6, -6, -6, -6, -6, -6, -6, -6, -6, -6, -6, -6, -6, -6, -6, -6, -6, -6, -6, -6, -6, -6, -6, -6, -6, -6, -6, -6, -6, -6, -6, -6, -6, -6, -6, -6, -6, -6, -6, -6, -6, -6, -6, -6, -6, -6, -6, -6]\n"
     ]
    }
   ],
   "source": [
    "# cn 3 analogue\n",
    "data=[]\n",
    "odata=[]\n",
    "p=5\n",
    "k=u[2][0] # = 3\n",
    "poly=D(u[2][1]) # poly(m) = cst term of j_m^power\n",
    "for a in [1..200]:\n",
    "    m=p^a\n",
    "    polym=evaluate(poly,m)\n",
    "    o=order(p,polym)\n",
    "    odata=odata+[o]\n",
    "print(odata)"
   ]
  },
  {
   "cell_type": "code",
   "execution_count": 60,
   "id": "3b9f87b2",
   "metadata": {},
   "outputs": [
    {
     "name": "stdout",
     "output_type": "stream",
     "text": [
      "[-6, -6, -6, -6, -6, -6, -6, -6, -6, -6, -6, -6, -6, -6, -6, -6, -6, -6, -6, -6, -6, -6, -6, -6, -6, -6, -6, -6, -6, -6, -6, -6, -6, -6, -6, -6, -6, -6, -6, -6, -6, -6, -6, -6, -6, -6, -6, -6, -6, -6, -6, -6, -6, -6, -6, -6, -6, -6, -6, -6, -6, -6, -6, -6, -6, -6, -6, -6, -6, -6, -6, -6, -6, -6, -6, -6, -6, -6, -6, -6, -6, -6, -6, -6, -6, -6, -6, -6, -6, -6, -6, -6, -6, -6, -6, -6, -6, -6, -6, -6, -6, -6, -6, -6, -6, -6, -6, -6, -6, -6, -6, -6, -6, -6, -6, -6, -6, -6, -6, -6, -6, -6, -6, -6, -6, -6, -6, -6, -6, -6, -6, -6, -6, -6, -6, -6, -6, -6, -6, -6, -6, -6, -6, -6, -6, -6, -6, -6, -6, -6, -6, -6, -6, -6, -6, -6, -6, -6, -6, -6, -6, -6, -6, -6, -6, -6, -6, -6, -6, -6, -6, -6, -6, -6, -6, -6, -6, -6, -6, -6, -6, -6, -6, -6, -6, -6, -6, -6, -6, -6, -6, -6, -6, -6, -6, -6, -6, -6, -6, -6]\n"
     ]
    }
   ],
   "source": [
    "# cn 3 analogue\n",
    "data=[]\n",
    "odata=[]\n",
    "p=7\n",
    "k=u[2][0] # = 3\n",
    "poly=D(u[2][1]) # poly(m) = cst term of j_m^power\n",
    "for a in [1..200]:\n",
    "    m=p^a\n",
    "    polym=evaluate(poly,m)\n",
    "    o=order(p,polym)\n",
    "    odata=odata+[o]\n",
    "print(odata)"
   ]
  },
  {
   "cell_type": "code",
   "execution_count": 61,
   "id": "dbd85d84",
   "metadata": {},
   "outputs": [
    {
     "name": "stdout",
     "output_type": "stream",
     "text": [
      "[-6, -6, -6, -6, -6, -6, -6, -6, -6, -6, -6, -6, -6, -6, -6, -6, -6, -6, -6, -6, -6, -6, -6, -6, -6, -6, -6, -6, -6, -6, -6, -6, -6, -6, -6, -6, -6, -6, -6, -6, -6, -6, -6, -6, -6, -6, -6, -6, -6, -6, -6, -6, -6, -6, -6, -6, -6, -6, -6, -6, -6, -6, -6, -6, -6, -6, -6, -6, -6, -6, -6, -6, -6, -6, -6, -6, -6, -6, -6, -6, -6, -6, -6, -6, -6, -6, -6, -6, -6, -6, -6, -6, -6, -6, -6, -6, -6, -6, -6, -6, -6, -6, -6, -6, -6, -6, -6, -6, -6, -6, -6, -6, -6, -6, -6, -6, -6, -6, -6, -6, -6, -6, -6, -6, -6, -6, -6, -6, -6, -6, -6, -6, -6, -6, -6, -6, -6, -6, -6, -6, -6, -6, -6, -6, -6, -6, -6, -6, -6, -6, -6, -6, -6, -6, -6, -6, -6, -6, -6, -6, -6, -6, -6, -6, -6, -6, -6, -6, -6, -6, -6, -6, -6, -6, -6, -6, -6, -6, -6, -6, -6, -6, -6, -6, -6, -6, -6, -6, -6, -6, -6, -6, -6, -6, -6, -6, -6, -6, -6, -6]\n"
     ]
    }
   ],
   "source": [
    "# cn 3 analogue\n",
    "data=[]\n",
    "odata=[]\n",
    "p=11\n",
    "k=u[2][0] # = 3\n",
    "poly=D(u[2][1]) # poly(m) = cst term of j_m^power\n",
    "for a in [1..200]:\n",
    "    m=p^a\n",
    "    polym=evaluate(poly,m)\n",
    "    o=order(p,polym)\n",
    "    odata=odata+[o]\n",
    "print(odata)"
   ]
  },
  {
   "cell_type": "code",
   "execution_count": 62,
   "id": "7980cfe3",
   "metadata": {},
   "outputs": [
    {
     "name": "stdout",
     "output_type": "stream",
     "text": [
      "[0, 0, 0, 0, 0, 0, 0, 0, 0, 0, 0, 0, 0, 0, 0, 0, 0, 0, 0, 0, 0, 0, 0, 0, 0, 0, 0, 0, 0, 0, 0, 0, 0, 0, 0, 0, 0, 0, 0, 0, 0, 0, 0, 0, 0, 0, 0, 0, 0, 0, 0, 0, 0, 0, 0, 0, 0, 0, 0, 0, 0, 0, 0, 0, 0, 0, 0, 0, 0, 0, 0, 0, 0, 0, 0, 0, 0, 0, 0, 0, 0, 0, 0, 0, 0, 0, 0, 0, 0, 0, 0, 0, 0, 0, 0, 0, 0, 0, 0, 0, 0, 0, 0, 0, 0, 0, 0, 0, 0, 0, 0, 0, 0, 0, 0, 0, 0, 0, 0, 0, 0, 0, 0, 0, 0, 0, 0, 0, 0, 0, 0, 0, 0, 0, 0, 0, 0, 0, 0, 0, 0, 0, 0, 0, 0, 0, 0, 0, 0, 0, 0, 0, 0, 0, 0, 0, 0, 0, 0, 0, 0, 0, 0, 0, 0, 0, 0, 0, 0, 0, 0, 0, 0, 0, 0, 0, 0, 0, 0, 0, 0, 0, 0, 0, 0, 0, 0, 0, 0, 0, 0, 0, 0, 0, 0, 0, 0, 0, 0, 0]\n"
     ]
    }
   ],
   "source": [
    "# cn 3 analogue\n",
    "data=[]\n",
    "odata=[]\n",
    "p=13\n",
    "k=u[2][0] # = 3\n",
    "poly=D(u[2][1]) # poly(m) = cst term of j_m^power\n",
    "for a in [1..200]:\n",
    "    m=p^a\n",
    "    polym=evaluate(poly,m)\n",
    "    o=order(p,polym)\n",
    "    odata=odata+[o]\n",
    "print(odata)"
   ]
  },
  {
   "cell_type": "code",
   "execution_count": 63,
   "id": "60e4296f",
   "metadata": {},
   "outputs": [
    {
     "name": "stdout",
     "output_type": "stream",
     "text": [
      "[-12, -12, -12, -22, -22, -22, -22, -22, -22, -22, -22, -22, -22, -22, -22, -22, -22, -22, -22, -22, -22, -22, -22, -22, -22, -22, -22, -22, -22, -22, -22, -22, -22, -22, -22, -22, -22, -22, -22, -22, -22, -22, -22, -22, -22, -22, -22, -22, -22, -22, -22, -22, -22, -22, -22, -22, -22, -22, -22, -22, -22, -22, -22, -22, -22, -22, -22, -22, -22, -22, -22, -22, -22, -22, -22, -22, -22, -22, -22, -22, -22, -22, -22, -22, -22, -22, -22, -22, -22, -22, -22, -22, -22, -22, -22, -22, -22, -22, -22, -22, -22, -22, -22, -22, -22, -22, -22, -22, -22, -22, -22, -22, -22, -22, -22, -22, -22, -22, -22, -22, -22, -22, -22, -22, -22, -22, -22, -22, -22, -22, -22, -22, -22, -22, -22, -22, -22, -22, -22, -22, -22, -22, -22, -22, -22, -22, -22, -22, -22, -22, -22, -22, -22, -22, -22, -22, -22, -22, -22, -22, -22, -22, -22, -22, -22, -22, -22, -22, -22, -22, -22, -22, -22, -22, -22, -22, -22, -22, -22, -22, -22, -22, -22, -22, -22, -22, -22, -22, -22, -22, -22, -22, -22, -22, -22, -22, -22, -22, -22, -22]\n"
     ]
    }
   ],
   "source": [
    "# cn 3 analogue\n",
    "data=[]\n",
    "odata=[]\n",
    "p=2\n",
    "k=u[2][0] # = 3\n",
    "poly=D(u[2][1]) # poly(m) = cst term of j_m^power\n",
    "for a in [1..200]:\n",
    "    m=p^a+1\n",
    "    polym=evaluate(poly,m)\n",
    "    o=order(p,polym)\n",
    "    odata=odata+[o]\n",
    "print(odata)"
   ]
  },
  {
   "cell_type": "code",
   "execution_count": 64,
   "id": "90cee92a",
   "metadata": {},
   "outputs": [
    {
     "name": "stdout",
     "output_type": "stream",
     "text": [
      "[-18, -4, -4, -23, -23, -23, -23, -23, -23, -23, -23, -23, -23, -23, -23, -23, -23, -23, -23, -23, -23, -23, -23, -23, -23, -23, -23, -23, -23, -23, -23, -23, -23, -23, -23, -23, -23, -23, -23, -23, -23, -23, -23, -23, -23, -23, -23, -23, -23, -23, -23, -23, -23, -23, -23, -23, -23, -23, -23, -23, -23, -23, -23, -23, -23, -23, -23, -23, -23, -23, -23, -23, -23, -23, -23, -23, -23, -23, -23, -23, -23, -23, -23, -23, -23, -23, -23, -23, -23, -23, -23, -23, -23, -23, -23, -23, -23, -23, -23, -23, -23, -23, -23, -23, -23, -23, -23, -23, -23, -23, -23, -23, -23, -23, -23, -23, -23, -23, -23, -23, -23, -23, -23, -23, -23, -23, -23, -23, -23, -23, -23, -23, -23, -23, -23, -23, -23, -23, -23, -23, -23, -23, -23, -23, -23, -23, -23, -23, -23, -23, -23, -23, -23, -23, -23, -23, -23, -23, -23, -23, -23, -23, -23, -23, -23, -23, -23, -23, -23, -23, -23, -23, -23, -23, -23, -23, -23, -23, -23, -23, -23, -23, -23, -23, -23, -23, -23, -23, -23, -23, -23, -23, -23, -23, -23, -23, -23, -23, -23, -23]\n"
     ]
    }
   ],
   "source": [
    "data=[]\n",
    "odata=[]\n",
    "p=2\n",
    "k=u[2][0] # = 3\n",
    "poly=D(u[2][1]) # poly(m) = cst term of j_m^power\n",
    "for a in [1..200]:\n",
    "    m=p^a+2\n",
    "    polym=evaluate(poly,m)\n",
    "    o=order(p,polym)\n",
    "    odata=odata+[o]\n",
    "print(odata)"
   ]
  },
  {
   "cell_type": "code",
   "execution_count": 65,
   "id": "0d52c003",
   "metadata": {},
   "outputs": [
    {
     "name": "stdout",
     "output_type": "stream",
     "text": [
      "[-12, -12, -12, -19, -18, -17, -16, -15, -14, -13, -11, -12, -12, -12, -12, -12, -12, -12, -12, -12, -12, -12, -12, -12, -12, -12, -12, -12, -12, -12, -12, -12, -12, -12, -12, -12, -12, -12, -12, -12, -12, -12, -12, -12, -12, -12, -12, -12, -12, -12, -12, -12, -12, -12, -12, -12, -12, -12, -12, -12, -12, -12, -12, -12, -12, -12, -12, -12, -12, -12, -12, -12, -12, -12, -12, -12, -12, -12, -12, -12, -12, -12, -12, -12, -12, -12, -12, -12, -12, -12, -12, -12, -12, -12, -12, -12, -12, -12, -12, -12, -12, -12, -12, -12, -12, -12, -12, -12, -12, -12, -12, -12, -12, -12, -12, -12, -12, -12, -12, -12, -12, -12, -12, -12, -12, -12, -12, -12, -12, -12, -12, -12, -12, -12, -12, -12, -12, -12, -12, -12, -12, -12, -12, -12, -12, -12, -12, -12, -12, -12, -12, -12, -12, -12, -12, -12, -12, -12, -12, -12, -12, -12, -12, -12, -12, -12, -12, -12, -12, -12, -12, -12, -12, -12, -12, -12, -12, -12, -12, -12, -12, -12, -12, -12, -12, -12, -12, -12, -12, -12, -12, -12, -12, -12, -12, -12, -12, -12, -12, -12]\n"
     ]
    }
   ],
   "source": [
    "data=[]\n",
    "odata=[]\n",
    "p=2\n",
    "k=u[2][0] # = 3\n",
    "poly=D(u[2][1]) # poly(m) = cst term of j_m^power\n",
    "for a in [1..200]:\n",
    "    m=p^a+3\n",
    "    polym=evaluate(poly,m)\n",
    "    o=order(p,polym)\n",
    "    odata=odata+[o]\n",
    "print(odata)"
   ]
  },
  {
   "cell_type": "code",
   "execution_count": 66,
   "id": "05e3c2e9",
   "metadata": {},
   "outputs": [
    {
     "name": "stdout",
     "output_type": "stream",
     "text": [
      "[-4, -24, -18, -21, -20, -19, -17, -18, -18, -18, -18, -18, -18, -18, -18, -18, -18, -18, -18, -18, -18, -18, -18, -18, -18, -18, -18, -18, -18, -18, -18, -18, -18, -18, -18, -18, -18, -18, -18, -18, -18, -18, -18, -18, -18, -18, -18, -18, -18, -18, -18, -18, -18, -18, -18, -18, -18, -18, -18, -18, -18, -18, -18, -18, -18, -18, -18, -18, -18, -18, -18, -18, -18, -18, -18, -18, -18, -18, -18, -18, -18, -18, -18, -18, -18, -18, -18, -18, -18, -18, -18, -18, -18, -18, -18, -18, -18, -18, -18, -18, -18, -18, -18, -18, -18, -18, -18, -18, -18, -18, -18, -18, -18, -18, -18, -18, -18, -18, -18, -18, -18, -18, -18, -18, -18, -18, -18, -18, -18, -18, -18, -18, -18, -18, -18, -18, -18, -18, -18, -18, -18, -18, -18, -18, -18, -18, -18, -18, -18, -18, -18, -18, -18, -18, -18, -18, -18, -18, -18, -18, -18, -18, -18, -18, -18, -18, -18, -18, -18, -18, -18, -18, -18, -18, -18, -18, -18, -18, -18, -18, -18, -18, -18, -18, -18, -18, -18, -18, -18, -18, -18, -18, -18, -18, -18, -18, -18, -18, -18, -18]\n"
     ]
    }
   ],
   "source": [
    "data=[]\n",
    "odata=[]\n",
    "p=2\n",
    "k=u[2][0] # = 3\n",
    "poly=D(u[2][1]) # poly(m) = cst term of j_m^power\n",
    "for a in [1..200]:\n",
    "    m=p^a+4\n",
    "    polym=evaluate(poly,m)\n",
    "    o=order(p,polym)\n",
    "    odata=odata+[o]\n",
    "print(odata)"
   ]
  },
  {
   "cell_type": "code",
   "execution_count": 67,
   "id": "27cb668f",
   "metadata": {},
   "outputs": [
    {
     "name": "stdout",
     "output_type": "stream",
     "text": [
      "[-12, -12, -22, -21, -20, -19, -18, -17, -16, -15, -14, -13, -10, -12, -12, -12, -12, -12, -12, -12, -12, -12, -12, -12, -12, -12, -12, -12, -12, -12, -12, -12, -12, -12, -12, -12, -12, -12, -12, -12, -12, -12, -12, -12, -12, -12, -12, -12, -12, -12, -12, -12, -12, -12, -12, -12, -12, -12, -12, -12, -12, -12, -12, -12, -12, -12, -12, -12, -12, -12, -12, -12, -12, -12, -12, -12, -12, -12, -12, -12, -12, -12, -12, -12, -12, -12, -12, -12, -12, -12, -12, -12, -12, -12, -12, -12, -12, -12, -12, -12, -12, -12, -12, -12, -12, -12, -12, -12, -12, -12, -12, -12, -12, -12, -12, -12, -12, -12, -12, -12, -12, -12, -12, -12, -12, -12, -12, -12, -12, -12, -12, -12, -12, -12, -12, -12, -12, -12, -12, -12, -12, -12, -12, -12, -12, -12, -12, -12, -12, -12, -12, -12, -12, -12, -12, -12, -12, -12, -12, -12, -12, -12, -12, -12, -12, -12, -12, -12, -12, -12, -12, -12, -12, -12, -12, -12, -12, -12, -12, -12, -12, -12, -12, -12, -12, -12, -12, -12, -12, -12, -12, -12, -12, -12, -12, -12, -12, -12, -12, -12]\n"
     ]
    }
   ],
   "source": [
    "data=[]\n",
    "odata=[]\n",
    "p=2\n",
    "k=u[2][0] # = 3\n",
    "poly=D(u[2][1]) # poly(m) = cst term of j_m^power\n",
    "for a in [1..200]:\n",
    "    m=p^a+5\n",
    "    polym=evaluate(poly,m)\n",
    "    o=order(p,polym)\n",
    "    odata=odata+[o]\n",
    "print(odata)"
   ]
  },
  {
   "cell_type": "code",
   "execution_count": 68,
   "id": "df2ffb45",
   "metadata": {},
   "outputs": [
    {
     "name": "stdout",
     "output_type": "stream",
     "text": [
      "[-24, -4, -23, -22, -21, -20, -19, -18, -17, -16, -15, -14, -13, -12, -11, -10, -9, -8, -7, -6, -5, -2, -4, -4, -4, -4, -4, -4, -4, -4, -4, -4, -4, -4, -4, -4, -4, -4, -4, -4, -4, -4, -4, -4, -4, -4, -4, -4, -4, -4, -4, -4, -4, -4, -4, -4, -4, -4, -4, -4, -4, -4, -4, -4, -4, -4, -4, -4, -4, -4, -4, -4, -4, -4, -4, -4, -4, -4, -4, -4, -4, -4, -4, -4, -4, -4, -4, -4, -4, -4, -4, -4, -4, -4, -4, -4, -4, -4, -4, -4, -4, -4, -4, -4, -4, -4, -4, -4, -4, -4, -4, -4, -4, -4, -4, -4, -4, -4, -4, -4, -4, -4, -4, -4, -4, -4, -4, -4, -4, -4, -4, -4, -4, -4, -4, -4, -4, -4, -4, -4, -4, -4, -4, -4, -4, -4, -4, -4, -4, -4, -4, -4, -4, -4, -4, -4, -4, -4, -4, -4, -4, -4, -4, -4, -4, -4, -4, -4, -4, -4, -4, -4, -4, -4, -4, -4, -4, -4, -4, -4, -4, -4, -4, -4, -4, -4, -4, -4, -4, -4, -4, -4, -4, -4, -4, -4, -4, -4, -4, -4]\n"
     ]
    }
   ],
   "source": [
    "data=[]\n",
    "odata=[]\n",
    "p=2\n",
    "k=u[2][0] # = 3\n",
    "poly=D(u[2][1]) # poly(m) = cst term of j_m^power\n",
    "for a in [1..200]:\n",
    "    m=p^a+6\n",
    "    polym=evaluate(poly,m)\n",
    "    o=order(p,polym)\n",
    "    odata=odata+[o]\n",
    "print(odata)"
   ]
  },
  {
   "cell_type": "code",
   "execution_count": 74,
   "id": "7c1abd78",
   "metadata": {},
   "outputs": [
    {
     "name": "stdout",
     "output_type": "stream",
     "text": [
      "(0, 24)\n",
      "(1, 22)\n",
      "(2, 23)\n",
      "(3, 12)\n",
      "(4, 18)\n",
      "(5, 12)\n",
      "(6, 4)\n",
      "(7, 12)\n",
      "(8, 24)\n",
      "(9, 12)\n",
      "(10, 4)\n",
      "(11, 12)\n",
      "(12, 18)\n",
      "(13, 22)\n",
      "(14, 23)\n",
      "(15, 21)\n",
      "(16, 24)\n",
      "(17, 22)\n",
      "(18, 23)\n",
      "(19, 19)\n",
      "(20, 21)\n",
      "[(0, 24), (1, 22), (2, 23), (3, 12), (4, 18), (5, 12), (6, 4), (7, 12), (8, 24), (9, 12), (10, 4), (11, 12), (12, 18), (13, 22), (14, 23), (15, 21), (16, 24), (17, 22), (18, 23), (19, 19), (20, 21)]\n",
      "[24, 22, 23, 12, 18, 12, 4, 12, 24, 12, 4, 12, 18, 22, 23, 21, 24, 22, 23, 19, 21]\n",
      "[4, 12, 18, 19, 21, 22, 23, 24]\n"
     ]
    }
   ],
   "source": [
    "pairs=[]\n",
    "odata=[]\n",
    "lasts=[]\n",
    "p=2\n",
    "k=u[2][0] # = 3\n",
    "poly=D(u[2][1]) # poly(m) = cst term of j_m^power\n",
    "for b in [0..20]:\n",
    "    for a in [1..200]:\n",
    "        m=p^a+b\n",
    "        polym=evaluate(poly,m)\n",
    "        o=order(p,polym)\n",
    "        odata=odata+[o]\n",
    "    last=-odata[len(odata)-1]\n",
    "    lasts=lasts+[last]\n",
    "    pair=(b,last)\n",
    "    pairs=pairs+[pair]\n",
    "    print(pair)\n",
    "print(pairs)\n",
    "print(lasts)\n",
    "print(sortAndSmash(lasts))"
   ]
  },
  {
   "cell_type": "code",
   "execution_count": 76,
   "id": "86af5715",
   "metadata": {},
   "outputs": [
    {
     "name": "stdout",
     "output_type": "stream",
     "text": [
      "[-4, -4, -23, -23, -23, -23, -23, -23, -23, -23, -23, -23, -23, -23, -23, -23, -23, -23, -23, -23, -23, -23, -23, -23, -23, -23, -23, -23, -23, -23, -23, -23, -23, -23, -23, -23, -23, -23, -23, -23, -23, -23, -23, -23, -23, -23, -23, -23, -23, -23, -23, -23, -23, -23, -23, -23, -23, -23, -23, -23, -23, -23, -23, -23, -23, -23, -23, -23, -23, -23, -23, -23, -23, -23, -23, -23, -23, -23, -23, -23, -23, -23, -23, -23, -23, -23, -23, -23, -23, -23, -23, -23, -23, -23, -23, -23, -23, -23, -23, -23, -23, -23, -23, -23, -23, -23, -23, -23, -23, -23, -23, -23, -23, -23, -23, -23, -23, -23, -23, -23, -23, -23, -23, -23, -23, -23, -23, -23, -23, -23, -23, -23, -23, -23, -23, -23, -23, -23, -23, -23, -23, -23, -23, -23, -23, -23, -23, -23, -23, -23, -23, -23, -23, -23, -23, -23, -23, -23, -23, -23, -23, -23, -23, -23, -23, -23, -23, -23, -23, -23, -23, -23, -23, -23, -23, -23, -23, -23, -23, -23, -23, -23, -23, -23, -23, -23, -23, -23, -23, -23, -23, -23, -23, -23, -23, -23, -23, -23, -23]\n"
     ]
    }
   ],
   "source": [
    "data=[]\n",
    "odata=[]\n",
    "p=2\n",
    "k=u[2][0] # = 3\n",
    "poly=D(u[2][1]) # poly(m) = cst term of j_m^power\n",
    "for a in [2..200]:\n",
    "    m=p^a+p\n",
    "    polym=evaluate(poly,m)\n",
    "    o=order(p,polym)\n",
    "    odata=odata+[o]\n",
    "print(odata)"
   ]
  },
  {
   "cell_type": "code",
   "execution_count": 77,
   "id": "ef22d5b6",
   "metadata": {},
   "outputs": [
    {
     "name": "stdout",
     "output_type": "stream",
     "text": [
      "[-18, -21, -20, -19, -17, -18, -18, -18, -18, -18, -18, -18, -18, -18, -18, -18, -18, -18, -18, -18, -18, -18, -18, -18, -18, -18, -18, -18, -18, -18, -18, -18, -18, -18, -18, -18, -18, -18, -18, -18, -18, -18, -18, -18, -18, -18, -18, -18, -18, -18, -18, -18, -18, -18, -18, -18, -18, -18, -18, -18, -18, -18, -18, -18, -18, -18, -18, -18, -18, -18, -18, -18, -18, -18, -18, -18, -18, -18, -18, -18, -18, -18, -18, -18, -18, -18, -18, -18, -18, -18, -18, -18, -18, -18, -18, -18, -18, -18, -18, -18, -18, -18, -18, -18, -18, -18, -18, -18, -18, -18, -18, -18, -18, -18, -18, -18, -18, -18, -18, -18, -18, -18, -18, -18, -18, -18, -18, -18, -18, -18, -18, -18, -18, -18, -18, -18, -18, -18, -18, -18, -18, -18, -18, -18, -18, -18, -18, -18, -18, -18, -18, -18, -18, -18, -18, -18, -18, -18, -18, -18, -18, -18, -18, -18, -18, -18, -18, -18, -18, -18, -18, -18, -18, -18, -18, -18, -18, -18, -18, -18, -18, -18, -18, -18, -18, -18, -18, -18, -18, -18, -18, -18, -18, -18, -18, -18, -18, -18]\n"
     ]
    }
   ],
   "source": [
    "data=[]\n",
    "odata=[]\n",
    "p=2\n",
    "k=u[2][0] # = 3\n",
    "poly=D(u[2][1]) # poly(m) = cst term of j_m^power\n",
    "for a in [3..200]:\n",
    "    m=p^a+p^2\n",
    "    polym=evaluate(poly,m)\n",
    "    o=order(p,polym)\n",
    "    odata=odata+[o]\n",
    "print(odata)"
   ]
  },
  {
   "cell_type": "code",
   "execution_count": 78,
   "id": "fbab8a2c",
   "metadata": {},
   "outputs": [
    {
     "name": "stdout",
     "output_type": "stream",
     "text": [
      "[-24, -24, -24, -24, -24, -24, -24, -24, -24, -24, -24, -24, -24, -24, -24, -24, -24, -24, -24, -24, -24, -24, -24, -24, -24, -24, -24, -24, -24, -24, -24, -24, -24, -24, -24, -24, -24, -24, -24, -24, -24, -24, -24, -24, -24, -24, -24, -24, -24, -24, -24, -24, -24, -24, -24, -24, -24, -24, -24, -24, -24, -24, -24, -24, -24, -24, -24, -24, -24, -24, -24, -24, -24, -24, -24, -24, -24, -24, -24, -24, -24, -24, -24, -24, -24, -24, -24, -24, -24, -24, -24, -24, -24, -24, -24, -24, -24, -24, -24, -24, -24, -24, -24, -24, -24, -24, -24, -24, -24, -24, -24, -24, -24, -24, -24, -24, -24, -24, -24, -24, -24, -24, -24, -24, -24, -24, -24, -24, -24, -24, -24, -24, -24, -24, -24, -24, -24, -24, -24, -24, -24, -24, -24, -24, -24, -24, -24, -24, -24, -24, -24, -24, -24, -24, -24, -24, -24, -24, -24, -24, -24, -24, -24, -24, -24, -24, -24, -24, -24, -24, -24, -24, -24, -24, -24, -24, -24, -24, -24, -24, -24, -24, -24, -24, -24, -24, -24, -24, -24, -24, -24, -24, -24, -24, -24, -24, -24]\n"
     ]
    }
   ],
   "source": [
    "data=[]\n",
    "odata=[]\n",
    "p=2\n",
    "k=u[2][0] # = 3\n",
    "poly=D(u[2][1]) # poly(m) = cst term of j_m^power\n",
    "for a in [4..200]:\n",
    "    m=p^a+p^3\n",
    "    polym=evaluate(poly,m)\n",
    "    o=order(p,polym)\n",
    "    odata=odata+[o]\n",
    "print(odata)"
   ]
  },
  {
   "cell_type": "code",
   "execution_count": 79,
   "id": "f72e1176",
   "metadata": {},
   "outputs": [
    {
     "name": "stdout",
     "output_type": "stream",
     "text": [
      "[-18, -24, -24, -24, -24, -24]\n"
     ]
    }
   ],
   "source": [
    "data=[]\n",
    "odata=[]\n",
    "p=2\n",
    "k=u[2][0] # = 3\n",
    "poly=D(u[2][1]) # poly(m) = cst term of j_m^power\n",
    "for m in [3..200]:\n",
    "    if digitsum(p,m)==1:\n",
    "        polym=evaluate(poly,m)\n",
    "        o=order(p,polym)\n",
    "        odata=odata+[o]\n",
    "print(odata)"
   ]
  },
  {
   "cell_type": "code",
   "execution_count": 80,
   "id": "27bebddd",
   "metadata": {},
   "outputs": [
    {
     "name": "stdout",
     "output_type": "stream",
     "text": [
      "[-12, -12, -4, -12, -4, -18, -22, -23, -21, -24, -22, -23, -20, -24, -24, -22, -23, -19, -24, -24, -24, -22, -23, -17, -24, -24, -24, -24]\n"
     ]
    }
   ],
   "source": [
    "data=[]\n",
    "odata=[]\n",
    "p=2\n",
    "k=u[2][0] # = 3\n",
    "poly=D(u[2][1]) # poly(m) = cst term of j_m^power\n",
    "for m in [3..200]:\n",
    "    if digitsum(p,m)==2:\n",
    "        polym=evaluate(poly,m)\n",
    "        o=order(p,polym)\n",
    "        odata=odata+[o]\n",
    "print(odata)"
   ]
  },
  {
   "cell_type": "code",
   "execution_count": 11,
   "id": "d0a0b273",
   "metadata": {},
   "outputs": [
    {
     "name": "stdout",
     "output_type": "stream",
     "text": [
      "(3, 3, 0)\n",
      "(5, 5, 0)\n",
      "(7, 7, 0)\n",
      "(11, 11, 0)\n",
      "(13, 13, 0)\n",
      "(17, 17, 0)\n",
      "(19, 19, 0)\n",
      "(23, 23, 0)\n",
      "(29, 29, 0)\n",
      "(31, 31, 0)\n",
      "(37, 37, 0)\n",
      "(41, 41, 0)\n",
      "(43, 43, 0)\n",
      "(47, 47, 0)\n",
      "(53, 53, 0)\n",
      "(59, 59, 0)\n",
      "(61, 61, 0)\n",
      "(67, 67, 0)\n",
      "(71, 71, 0)\n",
      "(73, 73, 0)\n",
      "(79, 79, 0)\n",
      "(83, 83, 0)\n",
      "(89, 89, 0)\n",
      "(97, 97, 0)\n",
      "(101, 101, 0)\n",
      "(103, 103, 0)\n",
      "(107, 107, 0)\n",
      "(109, 109, 0)\n",
      "(113, 113, 0)\n",
      "[0, 0, 0, 0, 0, 0, 0, 0, 0, 0, 0, 0, 0, 0, 0, 0, 0, 0, 0, 0, 0, 0, 0, 0, 0, 0, 0, 0, 0]\n"
     ]
    }
   ],
   "source": [
    "odata=[]\n",
    "tests=[]\n",
    "for n in [2..50]:\n",
    "    p=prime(n)\n",
    "    lu=len(u)\n",
    "    if (p>113)==False:\n",
    "        k=u[p-1][0]\n",
    "        poly=D(u[p-1][1]) \n",
    "        m=p\n",
    "        polym=evaluate(poly,m)\n",
    "        o=order(p,polym)\n",
    "        odata=odata+[-o/4]\n",
    "        test=(p+1)/2+o/4\n",
    "        tests=tests+[test]\n",
    "        print((p,k,test))\n",
    "print(tests)\n"
   ]
  },
  {
   "cell_type": "code",
   "execution_count": 6,
   "id": "ac0393e6",
   "metadata": {},
   "outputs": [
    {
     "name": "stdout",
     "output_type": "stream",
     "text": [
      "(3, 3, 0)\n",
      "(5, 5, 0)\n",
      "(7, 7, 0)\n",
      "(11, 11, 0)\n",
      "(13, 13, 0)\n",
      "(17, 17, 0)\n",
      "(19, 19, 0)\n",
      "(23, 23, 0)\n",
      "(29, 29, 0)\n",
      "(31, 31, 0)\n",
      "(37, 37, 0)\n",
      "(41, 41, 0)\n",
      "(43, 43, 0)\n",
      "(47, 47, 0)\n",
      "(53, 53, 0)\n",
      "(59, 59, 0)\n",
      "(61, 61, 0)\n",
      "(67, 67, 0)\n",
      "(71, 71, 0)\n",
      "(73, 73, 0)\n",
      "(79, 79, 0)\n",
      "(83, 83, 0)\n",
      "(89, 89, 0)\n",
      "(97, 97, 0)\n",
      "(101, 101, 0)\n",
      "(103, 103, 0)\n",
      "(107, 107, 0)\n",
      "(109, 109, 0)\n",
      "(113, 113, 0)\n",
      "[0, 0, 0, 0, 0, 0, 0, 0, 0, 0, 0, 0, 0, 0, 0, 0, 0, 0, 0, 0, 0, 0, 0, 0, 0, 0, 0, 0, 0]\n"
     ]
    }
   ],
   "source": [
    "odata=[]\n",
    "tests=[]\n",
    "for n in [2..50]:\n",
    "    p=prime(n)\n",
    "    lu=len(u)\n",
    "    if (p>113)==False:\n",
    "        k=u[p-1][0]\n",
    "        poly=D(u[p-1][1]) \n",
    "        m=p\n",
    "        polym=evaluate(poly,m)\n",
    "        o=order(p,polym)\n",
    "        odata=odata+[-o/4]\n",
    "        test=o-(-2-2*p)\n",
    "        tests=tests+[test]\n",
    "        print((p,k,test))\n",
    "print(tests)"
   ]
  },
  {
   "cell_type": "code",
   "execution_count": 14,
   "id": "d65c2ff3",
   "metadata": {},
   "outputs": [
    {
     "name": "stdout",
     "output_type": "stream",
     "text": [
      "(3, 3, 8)\n",
      "(5, 5, 24)\n",
      "(7, 7, 48)\n",
      "(11, 11, 120)\n",
      "(13, 13, 168)\n",
      "(17, 17, 288)\n",
      "(19, 19, 360)\n",
      "(23, 23, 528)\n",
      "(29, 29, 840)\n",
      "(31, 31, 960)\n",
      "(37, 37, 1368)\n",
      "(41, 41, 1680)\n",
      "(43, 43, 1848)\n",
      "(47, 47, 2208)\n",
      "(53, 53, 2808)\n",
      "(59, 59, 3480)\n",
      "(61, 61, 3720)\n",
      "(67, 67, 4488)\n",
      "(71, 71, 5040)\n",
      "(73, 73, 5328)\n",
      "(79, 79, 6240)\n",
      "(83, 83, 6888)\n",
      "(89, 89, 7920)\n",
      "(97, 97, 9408)\n",
      "(101, 101, 10200)\n",
      "(103, 103, 10608)\n",
      "(107, 107, 11448)\n",
      "(109, 109, 11880)\n",
      "(113, 113, 12768)\n",
      "[8, 24, 48, 120, 168, 288, 360, 528, 840, 960, 1368, 1680, 1848, 2208, 2808, 3480, 3720, 4488, 5040, 5328, 6240, 6888, 7920, 9408, 10200, 10608, 11448, 11880, 12768]\n"
     ]
    }
   ],
   "source": [
    "odata=[]\n",
    "tests=[]\n",
    "a=1\n",
    "for n in [2..50]:\n",
    "    p=prime(n)\n",
    "    lu=len(u)\n",
    "    if (p>113)==False:\n",
    "        k=u[p-1][0]\n",
    "        poly=D(u[p-1][1]) \n",
    "        m=p^a\n",
    "        polym=evaluate(poly,m)\n",
    "        o=order(p,polym)\n",
    "        test=((-2-2*p)-o*k)/2\n",
    "        tests=tests+[test]\n",
    "        print((p,k,test))\n",
    "print(tests)#A061066 after a transformation: (p^2-1)# so o = -2-2p\n",
    "# bc k = p."
   ]
  },
  {
   "cell_type": "code",
   "execution_count": 16,
   "id": "e704da08",
   "metadata": {},
   "outputs": [
    {
     "name": "stdout",
     "output_type": "stream",
     "text": [
      "(3, 3, 34)\n",
      "(5, 5, 43)\n",
      "(7, 7, 96)\n",
      "(11, 11, 240)\n",
      "(13, 13, 336)\n",
      "(17, 17, 559)\n",
      "(19, 19, 720)\n",
      "(23, 23, 1056)\n",
      "(29, 29, 1680)\n",
      "(31, 31, 1920)\n",
      "(37, 37, 2736)\n",
      "(41, 41, 3360)\n",
      "(43, 43, 3696)\n",
      "(47, 47, 4416)\n",
      "(53, 53, 5616)\n",
      "(59, 59, 6960)\n",
      "(61, 61, 7440)\n",
      "(67, 67, 8976)\n",
      "(71, 71, 10080)\n",
      "(73, 73, 10656)\n",
      "(79, 79, 12480)\n",
      "(83, 83, 13776)\n",
      "(89, 89, 15840)\n",
      "(97, 97, 18816)\n",
      "(101, 101, 20400)\n",
      "(103, 103, 21216)\n",
      "(107, 107, 22896)\n",
      "(109, 109, 23760)\n",
      "(113, 113, 25536)\n",
      "[34, 43, 96, 240, 336, 559, 720, 1056, 1680, 1920, 2736, 3360, 3696, 4416, 5616, 6960, 7440, 8976, 10080, 10656, 12480, 13776, 15840, 18816, 20400, 21216, 22896, 23760, 25536]\n"
     ]
    }
   ],
   "source": [
    "odata=[]\n",
    "tests=[]\n",
    "a=2\n",
    "for n in [2..50]:\n",
    "    p=prime(n)\n",
    "    lu=len(u)\n",
    "    if (p>113)==False:\n",
    "        k=u[p-1][0]\n",
    "        poly=D(u[p-1][1]) \n",
    "        m=p^a\n",
    "        polym=evaluate(poly,m)\n",
    "        o=order(p,polym)\n",
    "        test=((-2-2*p)-o*k)\n",
    "        tests=tests+[test]\n",
    "        print((p,k,test))\n",
    "print(tests)"
   ]
  },
  {
   "cell_type": "code",
   "execution_count": 17,
   "id": "943a3c7a",
   "metadata": {},
   "outputs": [
    {
     "name": "stdout",
     "output_type": "stream",
     "text": [
      "[9, 53, 144, 96, 223, 161, 336, 624, 240, 816, 624, 336, 720, 1200, 1344, 480, 1536, 1104, 576, 1824, 1296, 2064, 2976, 1584, 816, 1680, 864, 1776]\n"
     ]
    }
   ],
   "source": [
    "lst=[34, 43, 96, 240, 336, 559, 720, 1056, 1680, 1920, 2736, 3360, 3696, 4416, 5616, 6960, 7440, 8976, 10080, 10656, 12480, 13776, 15840, 18816, 20400, 21216, 22896, 23760, 25536]\n",
    "print(difference_table(lst))"
   ]
  },
  {
   "cell_type": "code",
   "execution_count": null,
   "id": "dc75baea",
   "metadata": {},
   "outputs": [],
   "source": []
  }
 ],
 "metadata": {
  "kernelspec": {
   "display_name": "SageMath 9.6",
   "language": "sage",
   "name": "sagemath-9.6"
  },
  "language_info": {
   "codemirror_mode": {
    "name": "ipython",
    "version": 3
   },
   "file_extension": ".py",
   "mimetype": "text/x-python",
   "name": "python",
   "nbconvert_exporter": "python",
   "pygments_lexer": "ipython3",
   "version": "3.10.3"
  }
 },
 "nbformat": 4,
 "nbformat_minor": 5
}
