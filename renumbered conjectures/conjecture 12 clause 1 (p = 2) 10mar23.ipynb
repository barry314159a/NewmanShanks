{
 "cells": [
  {
   "cell_type": "raw",
   "id": "610ab181",
   "metadata": {},
   "source": [
    "# from \"recipDeltaPower constants28feb23\"\n",
    "# output snipped\n",
    "import time\n",
    "\n",
    "def Delta(n):\n",
    "    M = ModularForms(SL2Z, 12) \n",
    "    return M.q_expansion_basis(n+1)[0]\n",
    "\n",
    "def recipDelta(n):\n",
    "    g=L(1/Delta(2*n))\n",
    "    return g\n",
    "\n",
    "def recipDeltaPowerConstant(n):\n",
    "    f=recipDelta(n)^n\n",
    "    return f[0]\n",
    "\n",
    "\n",
    "L=LaurentSeriesRing(QQ,'x', default_prec=5100)\n",
    "import pickle\n",
    "datafile= open('/Users/barrybrent/run28feb23.txt','wb') \n",
    "data=[]\n",
    "start=time.time()/3600\n",
    "for a in [1..5000]:\n",
    "    c=recipDeltaPowerConstant(a)\n",
    "    data=data+[(a,c)]\n",
    "    finish=time.time()/3600\n",
    "    print((a,finish-start))\n",
    "d = pickle.dumps(str(data))\n",
    "datafile.write(d)\n",
    "datafile.close()"
   ]
  },
  {
   "cell_type": "code",
   "execution_count": 2,
   "id": "f80d8a01",
   "metadata": {},
   "outputs": [
    {
     "name": "stdout",
     "output_type": "stream",
     "text": [
      "5000\n",
      "(1, 24)\n",
      "(2, 1224)\n"
     ]
    }
   ],
   "source": [
    "import pickle\n",
    "rfile = open('/Users/barrybrent/run28feb23.txt','rb')\n",
    "rs=pickle.load(rfile)\n",
    "rfile.close()\n",
    "s=stripQuotationMarks(rs)\n",
    "print(len(s))\n",
    "print(s[0])\n",
    "print(s[1])"
   ]
  },
  {
   "cell_type": "code",
   "execution_count": 4,
   "id": "960a0ac1",
   "metadata": {},
   "outputs": [
    {
     "name": "stdout",
     "output_type": "stream",
     "text": [
      "\n",
      "good=data: True\n",
      "bad=[]: True\n"
     ]
    }
   ],
   "source": [
    "import pickle\n",
    "rfile = open('/Users/barrybrent/run28feb23.txt','rb')\n",
    "rs=pickle.load(rfile)\n",
    "rfile.close()\n",
    "s=stripQuotationMarks(rs)\n",
    "p=2\n",
    "import time\n",
    "\n",
    "def jPowerConstantTermPair(k):\n",
    "    a=s[k][0]\n",
    "    c=s[k][1]\n",
    "    return (a,c)\n",
    "\n",
    "start=time.time()\n",
    "good=[]\n",
    "bad=[]\n",
    "data=[1..5000]\n",
    "residuepairs=[]\n",
    "start=time.time()\n",
    "for k in [0..4999]: #default precision must be > max a.\n",
    "    pair=jPowerConstantTermPair(k)\n",
    "    a=pair[0]\n",
    "    c=pair[1]\n",
    "    o=order(p,c)\n",
    "    ds=digitsum(p,a)\n",
    "    if o==3*ds:good=good+[a]\n",
    "    if o!=3*ds:bad=bad+[a]\n",
    "print()\n",
    "print(\"good=data:\",good==data)\n",
    "print(\"bad=[]:\",bad==[])"
   ]
  },
  {
   "cell_type": "code",
   "execution_count": null,
   "id": "439c4b1b",
   "metadata": {},
   "outputs": [],
   "source": []
  },
  {
   "cell_type": "code",
   "execution_count": null,
   "id": "3ea8d101",
   "metadata": {},
   "outputs": [],
   "source": []
  }
 ],
 "metadata": {
  "kernelspec": {
   "display_name": "SageMath 9.6",
   "language": "sage",
   "name": "sagemath-9.6"
  },
  "language_info": {
   "codemirror_mode": {
    "name": "ipython",
    "version": 3
   },
   "file_extension": ".py",
   "mimetype": "text/x-python",
   "name": "python",
   "nbconvert_exporter": "python",
   "pygments_lexer": "ipython3",
   "version": "3.10.3"
  }
 },
 "nbformat": 4,
 "nbformat_minor": 5
}
